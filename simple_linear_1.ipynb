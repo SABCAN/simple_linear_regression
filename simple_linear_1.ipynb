{
 "cells": [
  {
   "cell_type": "code",
   "execution_count": 20,
   "id": "fcba263a-d309-45e7-85f7-36f5e68147b9",
   "metadata": {},
   "outputs": [],
   "source": [
    "import pandas as pd \n",
    "import numpy as np\n",
    "import seaborn as sns\n",
    "import matplotlib.pyplot as plt"
   ]
  },
  {
   "cell_type": "code",
   "execution_count": 21,
   "id": "fd3c729b-64d2-412f-b2e1-a52d4eec04d2",
   "metadata": {},
   "outputs": [
    {
     "data": {
      "text/html": [
       "<div>\n",
       "<style scoped>\n",
       "    .dataframe tbody tr th:only-of-type {\n",
       "        vertical-align: middle;\n",
       "    }\n",
       "\n",
       "    .dataframe tbody tr th {\n",
       "        vertical-align: top;\n",
       "    }\n",
       "\n",
       "    .dataframe thead th {\n",
       "        text-align: right;\n",
       "    }\n",
       "</style>\n",
       "<table border=\"1\" class=\"dataframe\">\n",
       "  <thead>\n",
       "    <tr style=\"text-align: right;\">\n",
       "      <th></th>\n",
       "      <th>Unnamed: 0</th>\n",
       "      <th>YearsExperience</th>\n",
       "      <th>Salary</th>\n",
       "    </tr>\n",
       "  </thead>\n",
       "  <tbody>\n",
       "    <tr>\n",
       "      <th>0</th>\n",
       "      <td>0</td>\n",
       "      <td>1.2</td>\n",
       "      <td>39344.0</td>\n",
       "    </tr>\n",
       "    <tr>\n",
       "      <th>1</th>\n",
       "      <td>1</td>\n",
       "      <td>1.4</td>\n",
       "      <td>46206.0</td>\n",
       "    </tr>\n",
       "    <tr>\n",
       "      <th>2</th>\n",
       "      <td>2</td>\n",
       "      <td>1.6</td>\n",
       "      <td>37732.0</td>\n",
       "    </tr>\n",
       "    <tr>\n",
       "      <th>3</th>\n",
       "      <td>3</td>\n",
       "      <td>2.1</td>\n",
       "      <td>43526.0</td>\n",
       "    </tr>\n",
       "    <tr>\n",
       "      <th>4</th>\n",
       "      <td>4</td>\n",
       "      <td>2.3</td>\n",
       "      <td>39892.0</td>\n",
       "    </tr>\n",
       "  </tbody>\n",
       "</table>\n",
       "</div>"
      ],
      "text/plain": [
       "   Unnamed: 0  YearsExperience   Salary\n",
       "0           0              1.2  39344.0\n",
       "1           1              1.4  46206.0\n",
       "2           2              1.6  37732.0\n",
       "3           3              2.1  43526.0\n",
       "4           4              2.3  39892.0"
      ]
     },
     "execution_count": 21,
     "metadata": {},
     "output_type": "execute_result"
    }
   ],
   "source": [
    "###  Import Data\n",
    "df = pd.read_csv('Salary_dataset.csv')\n",
    "df.head()"
   ]
  },
  {
   "cell_type": "code",
   "execution_count": 22,
   "id": "51e6e619-0b81-4762-a6be-8bf813ded045",
   "metadata": {},
   "outputs": [
    {
     "name": "stdout",
     "output_type": "stream",
     "text": [
      "Dimemsi Pada DataFrame : (30, 3)\n"
     ]
    }
   ],
   "source": [
    "# dimensi pada DataFrame\n",
    "print(f\"Dimemsi Pada DataFrame : {df.shape}\")"
   ]
  },
  {
   "cell_type": "code",
   "execution_count": 23,
   "id": "8bdb33cc-caa6-481b-b7d4-12ddb649af0e",
   "metadata": {},
   "outputs": [
    {
     "name": "stdout",
     "output_type": "stream",
     "text": [
      "<class 'pandas.core.frame.DataFrame'>\n",
      "RangeIndex: 30 entries, 0 to 29\n",
      "Data columns (total 3 columns):\n",
      " #   Column           Non-Null Count  Dtype  \n",
      "---  ------           --------------  -----  \n",
      " 0   Unnamed: 0       30 non-null     int64  \n",
      " 1   YearsExperience  30 non-null     float64\n",
      " 2   Salary           30 non-null     float64\n",
      "dtypes: float64(2), int64(1)\n",
      "memory usage: 852.0 bytes\n"
     ]
    }
   ],
   "source": [
    "# Informasi data\n",
    "df.info()"
   ]
  },
  {
   "cell_type": "code",
   "execution_count": 24,
   "id": "a6540c45-e1b0-4368-a059-bb396ffebad9",
   "metadata": {},
   "outputs": [
    {
     "name": "stdout",
     "output_type": "stream",
     "text": [
      "Check data Dupliacted Pada DataFrame : 0\n"
     ]
    }
   ],
   "source": [
    "# Check Data Duplicated\n",
    "print(f\"Check data Dupliacted Pada DataFrame : {df.duplicated().sum()}\")"
   ]
  },
  {
   "cell_type": "code",
   "execution_count": 25,
   "id": "d776e744-27ea-418c-9c62-8041f3bfbef3",
   "metadata": {},
   "outputs": [
    {
     "name": "stdout",
     "output_type": "stream",
     "text": [
      "Check data Kosong Pada DataFrame : \n",
      "Unnamed: 0         0\n",
      "YearsExperience    0\n",
      "Salary             0\n",
      "dtype: int64\n"
     ]
    }
   ],
   "source": [
    "# Check Data Kosong\n",
    "print(f\"Check data Kosong Pada DataFrame : \\n{df.isnull().sum()}\")"
   ]
  },
  {
   "cell_type": "code",
   "execution_count": 26,
   "id": "392bb4de-3855-4211-ac7e-cc9015673907",
   "metadata": {},
   "outputs": [
    {
     "name": "stdout",
     "output_type": "stream",
     "text": [
      "{'Unnamed: 0': array([ 0,  1,  2,  3,  4,  5,  6,  7,  8,  9, 10, 11, 12, 13, 14, 15, 16,\n",
      "       17, 18, 19, 20, 21, 22, 23, 24, 25, 26, 27, 28, 29], dtype=int64)}\n",
      "{'YearsExperience': array([ 1.2,  1.4,  1.6,  2.1,  2.3,  3. ,  3.1,  3.3,  3.8,  4. ,  4.1,\n",
      "        4.2,  4.6,  5. ,  5.2,  5.4,  6. ,  6.1,  6.9,  7.2,  8. ,  8.3,\n",
      "        8.8,  9.1,  9.6,  9.7, 10.4, 10.6])}\n",
      "{'Salary': array([ 39344.,  46206.,  37732.,  43526.,  39892.,  56643.,  60151.,\n",
      "        54446.,  64446.,  57190.,  63219.,  55795.,  56958.,  57082.,\n",
      "        61112.,  67939.,  66030.,  83089.,  81364.,  93941.,  91739.,\n",
      "        98274., 101303., 113813., 109432., 105583., 116970., 112636.,\n",
      "       122392., 121873.])}\n"
     ]
    }
   ],
   "source": [
    "# Check Nilai unik pada DataFrame\n",
    "for i in df.columns:\n",
    "    print({i : df[i].unique()})"
   ]
  },
  {
   "cell_type": "code",
   "execution_count": 27,
   "id": "e21c4adb-d057-44f0-88d2-f00eb3ccbe72",
   "metadata": {},
   "outputs": [],
   "source": [
    "### Menghapus kolom\n",
    "df = df.drop(columns=['Unnamed: 0'])"
   ]
  },
  {
   "cell_type": "code",
   "execution_count": 28,
   "id": "9995b4ac-c5fc-4efe-9fcc-88772256212f",
   "metadata": {},
   "outputs": [
    {
     "data": {
      "text/html": [
       "<div>\n",
       "<style scoped>\n",
       "    .dataframe tbody tr th:only-of-type {\n",
       "        vertical-align: middle;\n",
       "    }\n",
       "\n",
       "    .dataframe tbody tr th {\n",
       "        vertical-align: top;\n",
       "    }\n",
       "\n",
       "    .dataframe thead th {\n",
       "        text-align: right;\n",
       "    }\n",
       "</style>\n",
       "<table border=\"1\" class=\"dataframe\">\n",
       "  <thead>\n",
       "    <tr style=\"text-align: right;\">\n",
       "      <th></th>\n",
       "      <th>YearsExperience</th>\n",
       "      <th>Salary</th>\n",
       "    </tr>\n",
       "  </thead>\n",
       "  <tbody>\n",
       "    <tr>\n",
       "      <th>count</th>\n",
       "      <td>30.000000</td>\n",
       "      <td>30.000000</td>\n",
       "    </tr>\n",
       "    <tr>\n",
       "      <th>mean</th>\n",
       "      <td>5.413333</td>\n",
       "      <td>76004.000000</td>\n",
       "    </tr>\n",
       "    <tr>\n",
       "      <th>std</th>\n",
       "      <td>2.837888</td>\n",
       "      <td>27414.429785</td>\n",
       "    </tr>\n",
       "    <tr>\n",
       "      <th>min</th>\n",
       "      <td>1.200000</td>\n",
       "      <td>37732.000000</td>\n",
       "    </tr>\n",
       "    <tr>\n",
       "      <th>25%</th>\n",
       "      <td>3.300000</td>\n",
       "      <td>56721.750000</td>\n",
       "    </tr>\n",
       "    <tr>\n",
       "      <th>50%</th>\n",
       "      <td>4.800000</td>\n",
       "      <td>65238.000000</td>\n",
       "    </tr>\n",
       "    <tr>\n",
       "      <th>75%</th>\n",
       "      <td>7.800000</td>\n",
       "      <td>100545.750000</td>\n",
       "    </tr>\n",
       "    <tr>\n",
       "      <th>max</th>\n",
       "      <td>10.600000</td>\n",
       "      <td>122392.000000</td>\n",
       "    </tr>\n",
       "  </tbody>\n",
       "</table>\n",
       "</div>"
      ],
      "text/plain": [
       "       YearsExperience         Salary\n",
       "count        30.000000      30.000000\n",
       "mean          5.413333   76004.000000\n",
       "std           2.837888   27414.429785\n",
       "min           1.200000   37732.000000\n",
       "25%           3.300000   56721.750000\n",
       "50%           4.800000   65238.000000\n",
       "75%           7.800000  100545.750000\n",
       "max          10.600000  122392.000000"
      ]
     },
     "execution_count": 28,
     "metadata": {},
     "output_type": "execute_result"
    }
   ],
   "source": [
    "# Deskripsi Dasta\n",
    "df.describe()"
   ]
  },
  {
   "cell_type": "code",
   "execution_count": 29,
   "id": "ad77107f-2c0e-4dae-bf03-7827fcb62bb7",
   "metadata": {},
   "outputs": [
    {
     "data": {
      "text/plain": [
       "<Axes: >"
      ]
     },
     "execution_count": 29,
     "metadata": {},
     "output_type": "execute_result"
    },
    {
     "data": {
      "image/png": "[encoded data removed]",
      "text/plain": [
       "<Figure size 640x480 with 1 Axes>"
      ]
     },
     "metadata": {},
     "output_type": "display_data"
    }
   ],
   "source": [
    "# Visualisasi kolom\n",
    "sns.boxplot(df)"
   ]
  },
  {
   "cell_type": "code",
   "execution_count": 30,
   "id": "72ca5546-0a2d-42a2-8af7-5decab797ce6",
   "metadata": {},
   "outputs": [
    {
     "data": {
      "text/plain": [
       "<Axes: >"
      ]
     },
     "execution_count": 30,
     "metadata": {},
     "output_type": "execute_result"
    },
    {
     "data": {
      "image/png": "[encoded data removed]",
      "text/plain": [
       "<Figure size 640x480 with 1 Axes>"
      ]
     },
     "metadata": {},
     "output_type": "display_data"
    }
   ],
   "source": [
    "# Check Data pada Kolom YearsExperience\n",
    "sns.boxplot(df['YearsExperience'])"
   ]
  },
  {
   "cell_type": "markdown",
   "id": "b189ae35-2f23-47ae-8272-ce691205ad17",
   "metadata": {},
   "source": [
    "### Visualisasi hubungan kolom"
   ]
  },
  {
   "cell_type": "code",
   "execution_count": 31,
   "id": "cfff7412-4ae8-47ab-a635-16a4b71c729a",
   "metadata": {},
   "outputs": [
    {
     "data": {
      "text/plain": [
       "<Axes: >"
      ]
     },
     "execution_count": 31,
     "metadata": {},
     "output_type": "execute_result"
    },
    {
     "data": {
      "image/png": "[encoded data removed]",
      "text/plain": [
       "<Figure size 640x480 with 2 Axes>"
      ]
     },
     "metadata": {},
     "output_type": "display_data"
    }
   ],
   "source": [
    "sns.heatmap(df.corr(), annot=True, cmap=sns.cubehelix_palette(as_cmap=True))"
   ]
  },
  {
   "cell_type": "code",
   "execution_count": 32,
   "id": "c6013fd1-c06d-42e6-ae5f-1967e3d81fb8",
   "metadata": {},
   "outputs": [
    {
     "data": {
      "text/plain": [
       "<matplotlib.collections.PathCollection at 0x1e6081d6010>"
      ]
     },
     "execution_count": 32,
     "metadata": {},
     "output_type": "execute_result"
    },
    {
     "data": {
      "image/png": "[encoded data removed]",
      "text/plain": [
       "<Figure size 640x480 with 1 Axes>"
      ]
     },
     "metadata": {},
     "output_type": "display_data"
    }
   ],
   "source": [
    "plt.scatter(x='YearsExperience', y ='Salary', data=df)"
   ]
  },
  {
   "cell_type": "markdown",
   "id": "27e6ab21-a8cb-4ab7-8be3-0271022cf60f",
   "metadata": {},
   "source": [
    "### Pemodelan Data\n",
    "\n",
    "* memilih fitur dan target\n",
    "* indek kolom din mulai dari 0"
   ]
  },
  {
   "cell_type": "code",
   "execution_count": 67,
   "id": "6e6336b1-c02f-406c-af56-99e3b6ec5f98",
   "metadata": {},
   "outputs": [],
   "source": [
    "x = df.iloc[:, 0]\n",
    "y = df.iloc[:, 1]"
   ]
  },
  {
   "cell_type": "code",
   "execution_count": 68,
   "id": "41b81047-31dc-45ba-a78b-84728c5c1476",
   "metadata": {},
   "outputs": [],
   "source": [
    "### Split Data Traing and testing\n",
    "np.random.seed(42)\n",
    "train_size = int(len(x) * 0.8)\n",
    "idx = np.random.permutation(len(x))\n",
    "\n",
    "x_train, x_test, y_train, y_test = x.iloc[idx[:train_size]], x.iloc[idx[train_size:]], y.iloc[idx[:train_size]], y.iloc[idx[train_size:]]"
   ]
  },
  {
   "cell_type": "code",
   "execution_count": 69,
   "id": "b2ca0427-2193-4ffa-ba80-324cc8216ad6",
   "metadata": {},
   "outputs": [
    {
     "name": "stdout",
     "output_type": "stream",
     "text": [
      "(24,)\n",
      "(24,)\n",
      "(6,)\n",
      "(6,)\n"
     ]
    }
   ],
   "source": [
    "print(x_train.shape)\n",
    "print(y_train.shape)\n",
    "print(x_test.shape)\n",
    "print(x_test.shape)"
   ]
  },
  {
   "cell_type": "code",
   "execution_count": 70,
   "id": "4406be4b-8760-4880-809f-6ec4cd2699bb",
   "metadata": {},
   "outputs": [],
   "source": [
    "### Menghitug slope and intercept\n",
    "slope = (len(x) * np.sum(x * y) - np.sum(x) * np.sum(y)) / (len(x) * np.sum(x**2) - np.sum(x)**2)\n",
    "\n",
    "intercept = (np.sum(y) - slope * np.sum(x)) / len(x)"
   ]
  },
  {
   "cell_type": "code",
   "execution_count": 71,
   "id": "56fe0469-7b71-4010-97db-302f1791995f",
   "metadata": {},
   "outputs": [
    {
     "data": {
      "text/plain": [
       "9449.96232145509"
      ]
     },
     "execution_count": 71,
     "metadata": {},
     "output_type": "execute_result"
    }
   ],
   "source": [
    "slope"
   ]
  },
  {
   "cell_type": "code",
   "execution_count": 72,
   "id": "44a9baf0-06c9-45cd-a9fb-671188177da6",
   "metadata": {},
   "outputs": [
    {
     "data": {
      "text/plain": [
       "24848.203966523117"
      ]
     },
     "execution_count": 72,
     "metadata": {},
     "output_type": "execute_result"
    }
   ],
   "source": [
    "intercept"
   ]
  },
  {
   "cell_type": "code",
   "execution_count": 73,
   "id": "6f0bbe9b-104d-4797-830d-639f26b3eb5d",
   "metadata": {},
   "outputs": [],
   "source": [
    "# Memprediksi\n",
    "y_pred = round(intercept + slope * x_test)"
   ]
  },
  {
   "cell_type": "code",
   "execution_count": 79,
   "id": "623824da-40ac-4de4-8543-6e7ce197f80e",
   "metadata": {},
   "outputs": [
    {
     "name": "stdout",
     "output_type": "stream",
     "text": [
      "Hasil Evaluasi model : 0.8507650906078916\n"
     ]
    }
   ],
   "source": [
    "### Evaluasi model\n",
    "## R-squared ada;ah mengukur sebarapa baik model \n",
    "### Nilai nya berkisar 1 dan 0 ,\n",
    "# Dimana 0 menunjukan mdel tidak dapat menjelaskan variasi data sama sekali\n",
    "## sedangkan 1 menunjuka model mampu menjelaskan seluruh data dengan sempurna\n",
    "r2 = 1 - (np.sum((y_test - y_pred)**2) / np.sum((y_test - y_test.mean())**2))\n",
    "print(f\"Hasil Evaluasi model : {r2}\")"
   ]
  },
  {
   "cell_type": "code",
   "execution_count": 83,
   "id": "531aece1-ed57-4840-beca-2216fe892157",
   "metadata": {},
   "outputs": [
    {
     "name": "stdout",
     "output_type": "stream",
     "text": [
      "Mean Squared Error : 37461068.333333336\n"
     ]
    }
   ],
   "source": [
    "### MSE mean squared error\n",
    "mse = np.mean((y_test - y_pred)**2)\n",
    "print(f\"Mean Squared Error : {mse}\")"
   ]
  },
  {
   "cell_type": "code",
   "execution_count": 81,
   "id": "8e22528d-ca82-444a-8184-366d70599bea",
   "metadata": {},
   "outputs": [
    {
     "name": "stdout",
     "output_type": "stream",
     "text": [
      "Mean Absulote error : 4751.0\n"
     ]
    }
   ],
   "source": [
    "### MAE mean Absulote error\n",
    "mae = np.mean(np.abs(y_test - y_pred))\n",
    "print(f\"Mean Absulote error : {mae}\")"
   ]
  },
  {
   "cell_type": "code",
   "execution_count": 82,
   "id": "87fa7a9b-9d10-4afe-8696-65fadb34e7d3",
   "metadata": {},
   "outputs": [
    {
     "data": {
      "image/png": "[encoded data removed]",
      "text/plain": [
       "<Figure size 640x480 with 1 Axes>"
      ]
     },
     "metadata": {},
     "output_type": "display_data"
    }
   ],
   "source": [
    "# Visualisai\n",
    "plt.scatter(y_test, y_pred)\n",
    "plt.plot([y_test.min(), y_test.max()], [y_test.min(), y_test.max()], '--r')\n",
    "plt.title(\"Visualisasi\")\n",
    "plt.show()"
   ]
  },
  {
   "cell_type": "code",
   "execution_count": null,
   "id": "c513dcfa-8d42-42a8-9c8a-716974b859fe",
   "metadata": {},
   "outputs": [],
   "source": []
  }
 ],
 "metadata": {
  "kernelspec": {
   "display_name": "Python 3 (ipykernel)",
   "language": "python",
   "name": "python3"
  },
  "language_info": {
   "codemirror_mode": {
    "name": "ipython",
    "version": 3
   },
   "file_extension": ".py",
   "mimetype": "text/x-python",
   "name": "python",
   "nbconvert_exporter": "python",
   "pygments_lexer": "ipython3",
   "version": "3.11.7"
  }
 },
 "nbformat": 4,
 "nbformat_minor": 5
}
