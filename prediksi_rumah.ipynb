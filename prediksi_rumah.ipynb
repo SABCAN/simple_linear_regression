{
 "cells": [
  {
   "cell_type": "code",
   "execution_count": 145,
   "id": "82360544-d1c2-420e-8afb-565a642d85eb",
   "metadata": {},
   "outputs": [],
   "source": [
    "import pandas as pd \n",
    "import numpy as np\n",
    "import seaborn as sns\n",
    "import matplotlib.pyplot as plt"
   ]
  },
  {
   "cell_type": "code",
   "execution_count": 146,
   "id": "84f06523-2152-4e58-9392-a2bed23fbd66",
   "metadata": {},
   "outputs": [
    {
     "data": {
      "text/html": [
       "<div>\n",
       "<style scoped>\n",
       "    .dataframe tbody tr th:only-of-type {\n",
       "        vertical-align: middle;\n",
       "    }\n",
       "\n",
       "    .dataframe tbody tr th {\n",
       "        vertical-align: top;\n",
       "    }\n",
       "\n",
       "    .dataframe thead th {\n",
       "        text-align: right;\n",
       "    }\n",
       "</style>\n",
       "<table border=\"1\" class=\"dataframe\">\n",
       "  <thead>\n",
       "    <tr style=\"text-align: right;\">\n",
       "      <th></th>\n",
       "      <th>Id</th>\n",
       "      <th>Area</th>\n",
       "      <th>Bedrooms</th>\n",
       "      <th>Bathrooms</th>\n",
       "      <th>Floors</th>\n",
       "      <th>YearBuilt</th>\n",
       "      <th>Location</th>\n",
       "      <th>Condition</th>\n",
       "      <th>Garage</th>\n",
       "      <th>Price</th>\n",
       "    </tr>\n",
       "  </thead>\n",
       "  <tbody>\n",
       "    <tr>\n",
       "      <th>0</th>\n",
       "      <td>1</td>\n",
       "      <td>1360</td>\n",
       "      <td>5</td>\n",
       "      <td>4</td>\n",
       "      <td>3</td>\n",
       "      <td>1970</td>\n",
       "      <td>Downtown</td>\n",
       "      <td>Excellent</td>\n",
       "      <td>No</td>\n",
       "      <td>149919</td>\n",
       "    </tr>\n",
       "    <tr>\n",
       "      <th>1</th>\n",
       "      <td>2</td>\n",
       "      <td>4272</td>\n",
       "      <td>5</td>\n",
       "      <td>4</td>\n",
       "      <td>3</td>\n",
       "      <td>1958</td>\n",
       "      <td>Downtown</td>\n",
       "      <td>Excellent</td>\n",
       "      <td>No</td>\n",
       "      <td>424998</td>\n",
       "    </tr>\n",
       "    <tr>\n",
       "      <th>2</th>\n",
       "      <td>3</td>\n",
       "      <td>3592</td>\n",
       "      <td>2</td>\n",
       "      <td>2</td>\n",
       "      <td>3</td>\n",
       "      <td>1938</td>\n",
       "      <td>Downtown</td>\n",
       "      <td>Good</td>\n",
       "      <td>No</td>\n",
       "      <td>266746</td>\n",
       "    </tr>\n",
       "    <tr>\n",
       "      <th>3</th>\n",
       "      <td>4</td>\n",
       "      <td>966</td>\n",
       "      <td>4</td>\n",
       "      <td>2</td>\n",
       "      <td>2</td>\n",
       "      <td>1902</td>\n",
       "      <td>Suburban</td>\n",
       "      <td>Fair</td>\n",
       "      <td>Yes</td>\n",
       "      <td>244020</td>\n",
       "    </tr>\n",
       "    <tr>\n",
       "      <th>4</th>\n",
       "      <td>5</td>\n",
       "      <td>4926</td>\n",
       "      <td>1</td>\n",
       "      <td>4</td>\n",
       "      <td>2</td>\n",
       "      <td>1975</td>\n",
       "      <td>Downtown</td>\n",
       "      <td>Fair</td>\n",
       "      <td>Yes</td>\n",
       "      <td>636056</td>\n",
       "    </tr>\n",
       "  </tbody>\n",
       "</table>\n",
       "</div>"
      ],
      "text/plain": [
       "   Id  Area  Bedrooms  Bathrooms  Floors  YearBuilt  Location  Condition  \\\n",
       "0   1  1360         5          4       3       1970  Downtown  Excellent   \n",
       "1   2  4272         5          4       3       1958  Downtown  Excellent   \n",
       "2   3  3592         2          2       3       1938  Downtown       Good   \n",
       "3   4   966         4          2       2       1902  Suburban       Fair   \n",
       "4   5  4926         1          4       2       1975  Downtown       Fair   \n",
       "\n",
       "  Garage   Price  \n",
       "0     No  149919  \n",
       "1     No  424998  \n",
       "2     No  266746  \n",
       "3    Yes  244020  \n",
       "4    Yes  636056  "
      ]
     },
     "execution_count": 146,
     "metadata": {},
     "output_type": "execute_result"
    }
   ],
   "source": [
    "data = pd.read_csv('House Price Prediction Dataset.csv')\n",
    "data.head()"
   ]
  },
  {
   "cell_type": "code",
   "execution_count": 147,
   "id": "81ee3340-0f6a-4b54-afbc-f1967c521081",
   "metadata": {},
   "outputs": [
    {
     "name": "stdout",
     "output_type": "stream",
     "text": [
      "Dimensi Pada DataFrame : (2000, 10)\n"
     ]
    }
   ],
   "source": [
    "print(f\"Dimensi Pada DataFrame : {data.shape}\")"
   ]
  },
  {
   "cell_type": "code",
   "execution_count": 148,
   "id": "3b821d39-7497-4fa1-acf4-ce18ecffda0d",
   "metadata": {},
   "outputs": [
    {
     "name": "stdout",
     "output_type": "stream",
     "text": [
      "<class 'pandas.core.frame.DataFrame'>\n",
      "RangeIndex: 2000 entries, 0 to 1999\n",
      "Data columns (total 10 columns):\n",
      " #   Column     Non-Null Count  Dtype \n",
      "---  ------     --------------  ----- \n",
      " 0   Id         2000 non-null   int64 \n",
      " 1   Area       2000 non-null   int64 \n",
      " 2   Bedrooms   2000 non-null   int64 \n",
      " 3   Bathrooms  2000 non-null   int64 \n",
      " 4   Floors     2000 non-null   int64 \n",
      " 5   YearBuilt  2000 non-null   int64 \n",
      " 6   Location   2000 non-null   object\n",
      " 7   Condition  2000 non-null   object\n",
      " 8   Garage     2000 non-null   object\n",
      " 9   Price      2000 non-null   int64 \n",
      "dtypes: int64(7), object(3)\n",
      "memory usage: 156.4+ KB\n"
     ]
    }
   ],
   "source": [
    "data.info()"
   ]
  },
  {
   "cell_type": "code",
   "execution_count": 149,
   "id": "19b205b4-4a05-44d7-b797-80a8b3fb168b",
   "metadata": {},
   "outputs": [
    {
     "name": "stdout",
     "output_type": "stream",
     "text": [
      "Check Data Kosong : \n",
      "Id           0\n",
      "Area         0\n",
      "Bedrooms     0\n",
      "Bathrooms    0\n",
      "Floors       0\n",
      "YearBuilt    0\n",
      "Location     0\n",
      "Condition    0\n",
      "Garage       0\n",
      "Price        0\n",
      "dtype: int64\n"
     ]
    }
   ],
   "source": [
    "print(f\"Check Data Kosong : \\n{data.isnull().sum()}\")"
   ]
  },
  {
   "cell_type": "code",
   "execution_count": 150,
   "id": "d2bc9297-40f1-4b19-b596-443fc6b56831",
   "metadata": {},
   "outputs": [
    {
     "name": "stdout",
     "output_type": "stream",
     "text": [
      "Check Data Kosong Pada DataFrame : 0\n"
     ]
    }
   ],
   "source": [
    "print(f\"Check Data Kosong Pada DataFrame : {data.isnull().sum().sum()}\")"
   ]
  },
  {
   "cell_type": "code",
   "execution_count": 151,
   "id": "e72fda98-a824-4496-a1c4-7a24d1c09fe7",
   "metadata": {},
   "outputs": [
    {
     "name": "stdout",
     "output_type": "stream",
     "text": [
      "Jumlah Nilai Unik : \n",
      "Id           2000\n",
      "Area         1622\n",
      "Bedrooms        5\n",
      "Bathrooms       4\n",
      "Floors          3\n",
      "YearBuilt     124\n",
      "Location        4\n",
      "Condition       4\n",
      "Garage          2\n",
      "Price        1999\n",
      "dtype: int64\n"
     ]
    }
   ],
   "source": [
    "print(f\"Jumlah Nilai Unik : \\n{data.nunique()}\")"
   ]
  },
  {
   "cell_type": "code",
   "execution_count": 152,
   "id": "ee0d8352-940d-4893-9349-8a4eb3249dff",
   "metadata": {},
   "outputs": [
    {
     "name": "stdout",
     "output_type": "stream",
     "text": [
      "{'Id': array([   1,    2,    3, ..., 1998, 1999, 2000], dtype=int64)}\n",
      "{'Area': array([1360, 4272, 3592, ...,  865, 2174, 4062], dtype=int64)}\n",
      "{'Bedrooms': array([5, 2, 4, 1, 3], dtype=int64)}\n",
      "{'Bathrooms': array([4, 2, 1, 3], dtype=int64)}\n",
      "{'Floors': array([3, 2, 1], dtype=int64)}\n",
      "{'YearBuilt': array([1970, 1958, 1938, 1902, 1975, 1906, 1948, 1925, 1932, 2000, 1947,\n",
      "       1978, 1901, 2004, 1931, 1903, 1919, 2013, 2016, 1935, 1927, 1976,\n",
      "       1900, 1959, 1955, 1934, 2011, 1929, 1953, 2020, 1954, 1988, 1979,\n",
      "       1957, 1982, 1964, 1968, 1950, 1921, 1987, 2006, 2008, 2015, 1952,\n",
      "       1999, 1967, 1951, 1981, 1949, 1940, 1917, 1965, 1920, 1943, 2002,\n",
      "       1946, 1928, 1989, 1984, 1916, 1930, 2014, 1972, 1994, 1977, 2009,\n",
      "       1913, 1996, 1998, 2010, 1983, 2022, 1915, 1911, 2018, 1904, 1980,\n",
      "       2021, 2005, 1973, 1942, 1944, 1908, 1961, 1956, 1924, 1914, 1905,\n",
      "       2019, 1941, 1992, 1974, 1963, 2001, 1991, 1936, 1907, 1997, 2007,\n",
      "       2017, 1966, 1945, 1912, 1986, 1960, 1995, 1933, 1969, 1923, 2012,\n",
      "       1910, 2003, 1993, 2023, 1918, 1971, 1926, 1939, 1922, 1937, 1909,\n",
      "       1990, 1962, 1985], dtype=int64)}\n",
      "{'Location': array(['Downtown', 'Suburban', 'Urban', 'Rural'], dtype=object)}\n",
      "{'Condition': array(['Excellent', 'Good', 'Fair', 'Poor'], dtype=object)}\n",
      "{'Garage': array(['No', 'Yes'], dtype=object)}\n",
      "{'Price': array([149919, 424998, 266746, ..., 476925, 161119, 482525], dtype=int64)}\n"
     ]
    }
   ],
   "source": [
    "for col in data:\n",
    "    print({col : data[col].unique()})"
   ]
  },
  {
   "cell_type": "code",
   "execution_count": 153,
   "id": "b37b1226-6b47-49a0-bc95-f35310a39bfb",
   "metadata": {},
   "outputs": [],
   "source": [
    "def remove_outliers(data, column):\n",
    "    q1 = data[column].quantile(0.25)\n",
    "    q3 = data[column].quantile(0.75)\n",
    "    IQR = q3 - q1\n",
    "    # batas awal dan akhir\n",
    "    lw = q1 - 1.5 * IQR\n",
    "    hg = q3 + 1.5 * IQR\n",
    "    # outliers\n",
    "    outlier = data[(data[column] < lw) & (data[column] > hg)]\n",
    "\n",
    "    return outlier"
   ]
  },
  {
   "cell_type": "code",
   "execution_count": 154,
   "id": "5f710f67-4640-4391-9770-acbe106c7a1b",
   "metadata": {},
   "outputs": [
    {
     "data": {
      "text/html": [
       "<div>\n",
       "<style scoped>\n",
       "    .dataframe tbody tr th:only-of-type {\n",
       "        vertical-align: middle;\n",
       "    }\n",
       "\n",
       "    .dataframe tbody tr th {\n",
       "        vertical-align: top;\n",
       "    }\n",
       "\n",
       "    .dataframe thead th {\n",
       "        text-align: right;\n",
       "    }\n",
       "</style>\n",
       "<table border=\"1\" class=\"dataframe\">\n",
       "  <thead>\n",
       "    <tr style=\"text-align: right;\">\n",
       "      <th></th>\n",
       "      <th>Id</th>\n",
       "      <th>Area</th>\n",
       "      <th>Bedrooms</th>\n",
       "      <th>Bathrooms</th>\n",
       "      <th>Floors</th>\n",
       "      <th>YearBuilt</th>\n",
       "      <th>Location</th>\n",
       "      <th>Condition</th>\n",
       "      <th>Garage</th>\n",
       "      <th>Price</th>\n",
       "    </tr>\n",
       "  </thead>\n",
       "  <tbody>\n",
       "  </tbody>\n",
       "</table>\n",
       "</div>"
      ],
      "text/plain": [
       "Empty DataFrame\n",
       "Columns: [Id, Area, Bedrooms, Bathrooms, Floors, YearBuilt, Location, Condition, Garage, Price]\n",
       "Index: []"
      ]
     },
     "execution_count": 154,
     "metadata": {},
     "output_type": "execute_result"
    }
   ],
   "source": [
    "remove_outliers(data, \"YearBuilt\")"
   ]
  },
  {
   "cell_type": "code",
   "execution_count": 155,
   "id": "b2a3c4ed-86a4-4fc9-bd16-9d1cf5fca4e4",
   "metadata": {},
   "outputs": [],
   "source": [
    "data = data[['Location','Price','YearBuilt']]"
   ]
  },
  {
   "cell_type": "code",
   "execution_count": 156,
   "id": "04d8e9fb-c779-4247-9516-7329b3a09e14",
   "metadata": {},
   "outputs": [
    {
     "data": {
      "text/html": [
       "<div>\n",
       "<style scoped>\n",
       "    .dataframe tbody tr th:only-of-type {\n",
       "        vertical-align: middle;\n",
       "    }\n",
       "\n",
       "    .dataframe tbody tr th {\n",
       "        vertical-align: top;\n",
       "    }\n",
       "\n",
       "    .dataframe thead th {\n",
       "        text-align: right;\n",
       "    }\n",
       "</style>\n",
       "<table border=\"1\" class=\"dataframe\">\n",
       "  <thead>\n",
       "    <tr style=\"text-align: right;\">\n",
       "      <th></th>\n",
       "      <th>Location</th>\n",
       "      <th>Price</th>\n",
       "      <th>YearBuilt</th>\n",
       "    </tr>\n",
       "  </thead>\n",
       "  <tbody>\n",
       "    <tr>\n",
       "      <th>0</th>\n",
       "      <td>Downtown</td>\n",
       "      <td>149919</td>\n",
       "      <td>1970</td>\n",
       "    </tr>\n",
       "    <tr>\n",
       "      <th>1</th>\n",
       "      <td>Downtown</td>\n",
       "      <td>424998</td>\n",
       "      <td>1958</td>\n",
       "    </tr>\n",
       "    <tr>\n",
       "      <th>2</th>\n",
       "      <td>Downtown</td>\n",
       "      <td>266746</td>\n",
       "      <td>1938</td>\n",
       "    </tr>\n",
       "    <tr>\n",
       "      <th>3</th>\n",
       "      <td>Suburban</td>\n",
       "      <td>244020</td>\n",
       "      <td>1902</td>\n",
       "    </tr>\n",
       "    <tr>\n",
       "      <th>4</th>\n",
       "      <td>Downtown</td>\n",
       "      <td>636056</td>\n",
       "      <td>1975</td>\n",
       "    </tr>\n",
       "    <tr>\n",
       "      <th>...</th>\n",
       "      <td>...</td>\n",
       "      <td>...</td>\n",
       "      <td>...</td>\n",
       "    </tr>\n",
       "    <tr>\n",
       "      <th>1995</th>\n",
       "      <td>Suburban</td>\n",
       "      <td>295620</td>\n",
       "      <td>1923</td>\n",
       "    </tr>\n",
       "    <tr>\n",
       "      <th>1996</th>\n",
       "      <td>Suburban</td>\n",
       "      <td>580929</td>\n",
       "      <td>2019</td>\n",
       "    </tr>\n",
       "    <tr>\n",
       "      <th>1997</th>\n",
       "      <td>Rural</td>\n",
       "      <td>476925</td>\n",
       "      <td>1903</td>\n",
       "    </tr>\n",
       "    <tr>\n",
       "      <th>1998</th>\n",
       "      <td>Urban</td>\n",
       "      <td>161119</td>\n",
       "      <td>1936</td>\n",
       "    </tr>\n",
       "    <tr>\n",
       "      <th>1999</th>\n",
       "      <td>Suburban</td>\n",
       "      <td>482525</td>\n",
       "      <td>1903</td>\n",
       "    </tr>\n",
       "  </tbody>\n",
       "</table>\n",
       "<p>2000 rows × 3 columns</p>\n",
       "</div>"
      ],
      "text/plain": [
       "      Location   Price  YearBuilt\n",
       "0     Downtown  149919       1970\n",
       "1     Downtown  424998       1958\n",
       "2     Downtown  266746       1938\n",
       "3     Suburban  244020       1902\n",
       "4     Downtown  636056       1975\n",
       "...        ...     ...        ...\n",
       "1995  Suburban  295620       1923\n",
       "1996  Suburban  580929       2019\n",
       "1997     Rural  476925       1903\n",
       "1998     Urban  161119       1936\n",
       "1999  Suburban  482525       1903\n",
       "\n",
       "[2000 rows x 3 columns]"
      ]
     },
     "execution_count": 156,
     "metadata": {},
     "output_type": "execute_result"
    }
   ],
   "source": [
    "data"
   ]
  },
  {
   "cell_type": "code",
   "execution_count": 157,
   "id": "15ec6f07-e40c-476c-8dc7-669c19d5efd1",
   "metadata": {},
   "outputs": [
    {
     "data": {
      "text/plain": [
       "Location\n",
       "Downtown    558\n",
       "Urban       485\n",
       "Suburban    483\n",
       "Rural       474\n",
       "Name: count, dtype: int64"
      ]
     },
     "execution_count": 157,
     "metadata": {},
     "output_type": "execute_result"
    }
   ],
   "source": [
    "data['Location'].value_counts()"
   ]
  },
  {
   "cell_type": "code",
   "execution_count": 158,
   "id": "1446c968-869e-47ba-8bec-cd013e91e304",
   "metadata": {},
   "outputs": [],
   "source": [
    "# Seimbangkan Data\n",
    "data = data.groupby('Location').apply(lambda x: x.sample(474)).reset_index(drop=True)"
   ]
  },
  {
   "cell_type": "code",
   "execution_count": 159,
   "id": "9b522f1e-c81a-456d-b705-76a2332af07a",
   "metadata": {},
   "outputs": [
    {
     "data": {
      "text/plain": [
       "Location\n",
       "Downtown    474\n",
       "Rural       474\n",
       "Suburban    474\n",
       "Urban       474\n",
       "Name: count, dtype: int64"
      ]
     },
     "execution_count": 159,
     "metadata": {},
     "output_type": "execute_result"
    }
   ],
   "source": [
    "data['Location'].value_counts()"
   ]
  },
  {
   "cell_type": "code",
   "execution_count": 160,
   "id": "520ba76b-5647-4e82-bc44-809493892458",
   "metadata": {},
   "outputs": [],
   "source": [
    "data['Location'] = data['Location'].map({'Downtown' : 0, 'Rural' : 1, 'Suburban' : 2, 'Urban' : 3})"
   ]
  },
  {
   "cell_type": "code",
   "execution_count": 161,
   "id": "f8f39963-d800-4f12-8502-634e9aaef11a",
   "metadata": {},
   "outputs": [
    {
     "data": {
      "text/plain": [
       "<Axes: >"
      ]
     },
     "execution_count": 161,
     "metadata": {},
     "output_type": "execute_result"
    },
    {
     "data": {
      "image/png": "[encoded data removed]",
      "text/plain": [
       "<Figure size 640x480 with 1 Axes>"
      ]
     },
     "metadata": {},
     "output_type": "display_data"
    }
   ],
   "source": [
    "sns.boxplot(data)"
   ]
  },
  {
   "cell_type": "code",
   "execution_count": 162,
   "id": "b4c4df74-bfc5-49e5-b092-17ab788259a7",
   "metadata": {},
   "outputs": [
    {
     "data": {
      "text/plain": [
       "<Axes: >"
      ]
     },
     "execution_count": 162,
     "metadata": {},
     "output_type": "execute_result"
    },
    {
     "data": {
      "image/png": "[encoded data removed]",
      "text/plain": [
       "<Figure size 640x480 with 1 Axes>"
      ]
     },
     "metadata": {},
     "output_type": "display_data"
    }
   ],
   "source": [
    "sns.boxplot(data['Location'])"
   ]
  },
  {
   "cell_type": "code",
   "execution_count": 163,
   "id": "69eee93f-a386-46c8-881b-a3219bf27984",
   "metadata": {},
   "outputs": [
    {
     "data": {
      "text/plain": [
       "<Axes: >"
      ]
     },
     "execution_count": 163,
     "metadata": {},
     "output_type": "execute_result"
    },
    {
     "data": {
      "image/png": "[encoded data removed]",
      "text/plain": [
       "<Figure size 640x480 with 1 Axes>"
      ]
     },
     "metadata": {},
     "output_type": "display_data"
    }
   ],
   "source": [
    "sns.boxplot(data['YearBuilt'])"
   ]
  },
  {
   "cell_type": "code",
   "execution_count": 164,
   "id": "49adeda1-e30e-4a8d-8e7f-10630cc5abf9",
   "metadata": {},
   "outputs": [
    {
     "name": "stderr",
     "output_type": "stream",
     "text": [
      "C:\\Users\\BISMILLAH NAWAITU\\anaconda3\\Lib\\site-packages\\seaborn\\_oldcore.py:1119: FutureWarning: use_inf_as_na option is deprecated and will be removed in a future version. Convert inf values to NaN before operating instead.\n",
      "  with pd.option_context('mode.use_inf_as_na', True):\n",
      "C:\\Users\\BISMILLAH NAWAITU\\anaconda3\\Lib\\site-packages\\seaborn\\_oldcore.py:1119: FutureWarning: use_inf_as_na option is deprecated and will be removed in a future version. Convert inf values to NaN before operating instead.\n",
      "  with pd.option_context('mode.use_inf_as_na', True):\n"
     ]
    },
    {
     "data": {
      "text/plain": [
       "<seaborn.axisgrid.PairGrid at 0x20ed4aa46d0>"
      ]
     },
     "execution_count": 164,
     "metadata": {},
     "output_type": "execute_result"
    },
    {
     "data": {
      "image/png": "[encoded data removed]",
      "text/plain": [
       "<Figure size 585.5x500 with 6 Axes>"
      ]
     },
     "metadata": {},
     "output_type": "display_data"
    }
   ],
   "source": [
    "sns.pairplot(data=data, hue='YearBuilt', palette='husl')"
   ]
  },
  {
   "cell_type": "code",
   "execution_count": 165,
   "id": "7e0a1412-ffde-484c-ab7f-f9da028c0238",
   "metadata": {},
   "outputs": [],
   "source": [
    "X = data.iloc[:, :-1]\n",
    "y = data.iloc[:, -1]"
   ]
  },
  {
   "cell_type": "code",
   "execution_count": 166,
   "id": "18c4c71f-7c13-457b-aaa9-9ee8c26055d8",
   "metadata": {},
   "outputs": [
    {
     "data": {
      "text/html": [
       "<div>\n",
       "<style scoped>\n",
       "    .dataframe tbody tr th:only-of-type {\n",
       "        vertical-align: middle;\n",
       "    }\n",
       "\n",
       "    .dataframe tbody tr th {\n",
       "        vertical-align: top;\n",
       "    }\n",
       "\n",
       "    .dataframe thead th {\n",
       "        text-align: right;\n",
       "    }\n",
       "</style>\n",
       "<table border=\"1\" class=\"dataframe\">\n",
       "  <thead>\n",
       "    <tr style=\"text-align: right;\">\n",
       "      <th></th>\n",
       "      <th>Location</th>\n",
       "      <th>Price</th>\n",
       "    </tr>\n",
       "  </thead>\n",
       "  <tbody>\n",
       "    <tr>\n",
       "      <th>0</th>\n",
       "      <td>0</td>\n",
       "      <td>826653</td>\n",
       "    </tr>\n",
       "    <tr>\n",
       "      <th>1</th>\n",
       "      <td>0</td>\n",
       "      <td>687293</td>\n",
       "    </tr>\n",
       "    <tr>\n",
       "      <th>2</th>\n",
       "      <td>0</td>\n",
       "      <td>244451</td>\n",
       "    </tr>\n",
       "    <tr>\n",
       "      <th>3</th>\n",
       "      <td>0</td>\n",
       "      <td>976932</td>\n",
       "    </tr>\n",
       "    <tr>\n",
       "      <th>4</th>\n",
       "      <td>0</td>\n",
       "      <td>863819</td>\n",
       "    </tr>\n",
       "    <tr>\n",
       "      <th>...</th>\n",
       "      <td>...</td>\n",
       "      <td>...</td>\n",
       "    </tr>\n",
       "    <tr>\n",
       "      <th>1891</th>\n",
       "      <td>3</td>\n",
       "      <td>612347</td>\n",
       "    </tr>\n",
       "    <tr>\n",
       "      <th>1892</th>\n",
       "      <td>3</td>\n",
       "      <td>176298</td>\n",
       "    </tr>\n",
       "    <tr>\n",
       "      <th>1893</th>\n",
       "      <td>3</td>\n",
       "      <td>372111</td>\n",
       "    </tr>\n",
       "    <tr>\n",
       "      <th>1894</th>\n",
       "      <td>3</td>\n",
       "      <td>77597</td>\n",
       "    </tr>\n",
       "    <tr>\n",
       "      <th>1895</th>\n",
       "      <td>3</td>\n",
       "      <td>174697</td>\n",
       "    </tr>\n",
       "  </tbody>\n",
       "</table>\n",
       "<p>1896 rows × 2 columns</p>\n",
       "</div>"
      ],
      "text/plain": [
       "      Location   Price\n",
       "0            0  826653\n",
       "1            0  687293\n",
       "2            0  244451\n",
       "3            0  976932\n",
       "4            0  863819\n",
       "...        ...     ...\n",
       "1891         3  612347\n",
       "1892         3  176298\n",
       "1893         3  372111\n",
       "1894         3   77597\n",
       "1895         3  174697\n",
       "\n",
       "[1896 rows x 2 columns]"
      ]
     },
     "execution_count": 166,
     "metadata": {},
     "output_type": "execute_result"
    }
   ],
   "source": [
    "X"
   ]
  },
  {
   "cell_type": "code",
   "execution_count": 167,
   "id": "ebc1544b-2c66-4578-a270-e2a7745fe27b",
   "metadata": {},
   "outputs": [
    {
     "data": {
      "text/plain": [
       "0       1949\n",
       "1       2004\n",
       "2       1998\n",
       "3       2014\n",
       "4       1921\n",
       "        ... \n",
       "1891    1937\n",
       "1892    1956\n",
       "1893    1991\n",
       "1894    2009\n",
       "1895    1986\n",
       "Name: YearBuilt, Length: 1896, dtype: int64"
      ]
     },
     "execution_count": 167,
     "metadata": {},
     "output_type": "execute_result"
    }
   ],
   "source": [
    "y"
   ]
  },
  {
   "cell_type": "code",
   "execution_count": 168,
   "id": "294007b6-413c-487d-a56f-fc32f6c73d73",
   "metadata": {},
   "outputs": [],
   "source": [
    "def scaling(X):\n",
    "    return (X - X.min()) / (X.max() - X.min())"
   ]
  },
  {
   "cell_type": "code",
   "execution_count": 169,
   "id": "04282ca4-4e65-4020-a9b7-bef597f89fd3",
   "metadata": {},
   "outputs": [],
   "source": [
    "scaling = scaling(X)"
   ]
  },
  {
   "cell_type": "code",
   "execution_count": 170,
   "id": "b9847510-64f1-44f5-b772-21a71b412779",
   "metadata": {},
   "outputs": [
    {
     "data": {
      "text/html": [
       "<div>\n",
       "<style scoped>\n",
       "    .dataframe tbody tr th:only-of-type {\n",
       "        vertical-align: middle;\n",
       "    }\n",
       "\n",
       "    .dataframe tbody tr th {\n",
       "        vertical-align: top;\n",
       "    }\n",
       "\n",
       "    .dataframe thead th {\n",
       "        text-align: right;\n",
       "    }\n",
       "</style>\n",
       "<table border=\"1\" class=\"dataframe\">\n",
       "  <thead>\n",
       "    <tr style=\"text-align: right;\">\n",
       "      <th></th>\n",
       "      <th>Location</th>\n",
       "      <th>Price</th>\n",
       "    </tr>\n",
       "  </thead>\n",
       "  <tbody>\n",
       "    <tr>\n",
       "      <th>0</th>\n",
       "      <td>0.0</td>\n",
       "      <td>0.817825</td>\n",
       "    </tr>\n",
       "    <tr>\n",
       "      <th>1</th>\n",
       "      <td>0.0</td>\n",
       "      <td>0.671076</td>\n",
       "    </tr>\n",
       "    <tr>\n",
       "      <th>2</th>\n",
       "      <td>0.0</td>\n",
       "      <td>0.204755</td>\n",
       "    </tr>\n",
       "    <tr>\n",
       "      <th>3</th>\n",
       "      <td>0.0</td>\n",
       "      <td>0.976071</td>\n",
       "    </tr>\n",
       "    <tr>\n",
       "      <th>4</th>\n",
       "      <td>0.0</td>\n",
       "      <td>0.856961</td>\n",
       "    </tr>\n",
       "    <tr>\n",
       "      <th>...</th>\n",
       "      <td>...</td>\n",
       "      <td>...</td>\n",
       "    </tr>\n",
       "    <tr>\n",
       "      <th>1891</th>\n",
       "      <td>1.0</td>\n",
       "      <td>0.592156</td>\n",
       "    </tr>\n",
       "    <tr>\n",
       "      <th>1892</th>\n",
       "      <td>1.0</td>\n",
       "      <td>0.132989</td>\n",
       "    </tr>\n",
       "    <tr>\n",
       "      <th>1893</th>\n",
       "      <td>1.0</td>\n",
       "      <td>0.339184</td>\n",
       "    </tr>\n",
       "    <tr>\n",
       "      <th>1894</th>\n",
       "      <td>1.0</td>\n",
       "      <td>0.029055</td>\n",
       "    </tr>\n",
       "    <tr>\n",
       "      <th>1895</th>\n",
       "      <td>1.0</td>\n",
       "      <td>0.131303</td>\n",
       "    </tr>\n",
       "  </tbody>\n",
       "</table>\n",
       "<p>1896 rows × 2 columns</p>\n",
       "</div>"
      ],
      "text/plain": [
       "      Location     Price\n",
       "0          0.0  0.817825\n",
       "1          0.0  0.671076\n",
       "2          0.0  0.204755\n",
       "3          0.0  0.976071\n",
       "4          0.0  0.856961\n",
       "...        ...       ...\n",
       "1891       1.0  0.592156\n",
       "1892       1.0  0.132989\n",
       "1893       1.0  0.339184\n",
       "1894       1.0  0.029055\n",
       "1895       1.0  0.131303\n",
       "\n",
       "[1896 rows x 2 columns]"
      ]
     },
     "execution_count": 170,
     "metadata": {},
     "output_type": "execute_result"
    }
   ],
   "source": [
    "scaling"
   ]
  },
  {
   "cell_type": "code",
   "execution_count": 171,
   "id": "3e9d3045-9f17-405b-9228-00b2d82f0c67",
   "metadata": {},
   "outputs": [],
   "source": [
    "X = np.array(X)\n",
    "y = np.array(y)"
   ]
  },
  {
   "cell_type": "code",
   "execution_count": 172,
   "id": "ee490618-1c8a-49cb-9d96-f2bf43157290",
   "metadata": {},
   "outputs": [
    {
     "data": {
      "text/plain": [
       "(1896, 2)"
      ]
     },
     "execution_count": 172,
     "metadata": {},
     "output_type": "execute_result"
    }
   ],
   "source": [
    "X.shape"
   ]
  },
  {
   "cell_type": "code",
   "execution_count": 173,
   "id": "59228d15-0dcc-4008-9cb9-6838683043d0",
   "metadata": {},
   "outputs": [
    {
     "data": {
      "text/plain": [
       "(1896,)"
      ]
     },
     "execution_count": 173,
     "metadata": {},
     "output_type": "execute_result"
    }
   ],
   "source": [
    "y.shape"
   ]
  },
  {
   "cell_type": "code",
   "execution_count": 174,
   "id": "18cd18b0-efed-4ca2-966a-95e1c91f5c82",
   "metadata": {},
   "outputs": [],
   "source": [
    "np.random.seed(42)\n",
    "train_size = int(len(X) * 0.8)\n",
    "idx = np.random.permutation(len(X))\n",
    "\n",
    "X_train, X_test = X[idx[:train_size]], X[idx[train_size:]]\n",
    "y_train, y_test = y[idx[:train_size]], y[idx[train_size:]]"
   ]
  },
  {
   "cell_type": "code",
   "execution_count": 175,
   "id": "7a1971b8-9374-4e85-94ab-e2f43d60a5a2",
   "metadata": {},
   "outputs": [
    {
     "name": "stdout",
     "output_type": "stream",
     "text": [
      "Hasil Data Training : (1516, 2), (1516,)\n"
     ]
    }
   ],
   "source": [
    "print(f\"Hasil Data Training : {X_train.shape}, {y_train.shape}\")"
   ]
  },
  {
   "cell_type": "code",
   "execution_count": 176,
   "id": "bbff07a9-d277-48dd-8153-89beae6691e3",
   "metadata": {},
   "outputs": [
    {
     "name": "stdout",
     "output_type": "stream",
     "text": [
      "Hasil Data Testing : (380, 2), (380,)\n"
     ]
    }
   ],
   "source": [
    "print(f\"Hasil Data Testing : {X_test.shape}, {y_test.shape}\")"
   ]
  },
  {
   "cell_type": "code",
   "execution_count": 177,
   "id": "d4a6508d-beb3-4011-b11d-cc43035cd876",
   "metadata": {},
   "outputs": [],
   "source": [
    "# Perkalian Tranpose\n",
    "x_transpose = X.T"
   ]
  },
  {
   "cell_type": "code",
   "execution_count": 178,
   "id": "e8f86121-e458-4403-b098-343bd9984c14",
   "metadata": {},
   "outputs": [
    {
     "data": {
      "text/plain": [
       "array([[     0,      0,      0, ...,      3,      3,      3],\n",
       "       [826653, 687293, 244451, ..., 372111,  77597, 174697]], dtype=int64)"
      ]
     },
     "execution_count": 178,
     "metadata": {},
     "output_type": "execute_result"
    }
   ],
   "source": [
    "x_transpose"
   ]
  },
  {
   "cell_type": "code",
   "execution_count": 179,
   "id": "5c2267b1-5ad6-401e-a4f5-5f86e2181186",
   "metadata": {},
   "outputs": [],
   "source": [
    "### Perkalian X.T dengan X\n",
    "x_tranpose_x = np.dot(x_transpose, X)"
   ]
  },
  {
   "cell_type": "code",
   "execution_count": 180,
   "id": "e9990236-06a8-475b-a028-1873eded1a1f",
   "metadata": {},
   "outputs": [
    {
     "data": {
      "text/plain": [
       "array([[           6636,      1517292869],\n",
       "       [     1517292869, 689202782818569]], dtype=int64)"
      ]
     },
     "execution_count": 180,
     "metadata": {},
     "output_type": "execute_result"
    }
   ],
   "source": [
    "x_tranpose_x"
   ]
  },
  {
   "cell_type": "code",
   "execution_count": 181,
   "id": "f71665a5-5751-4f5f-a95d-fe2193aff907",
   "metadata": {},
   "outputs": [],
   "source": [
    "# Perklaian X.T dengan Y\n",
    "x_tranpose_y = np.dot(x_transpose, y)"
   ]
  },
  {
   "cell_type": "code",
   "execution_count": 182,
   "id": "e0bb706a-12dc-46ec-a82f-1c2dfd85f0e1",
   "metadata": {},
   "outputs": [
    {
     "data": {
      "text/plain": [
       "array([      5575089, 1991576766877], dtype=int64)"
      ]
     },
     "execution_count": 182,
     "metadata": {},
     "output_type": "execute_result"
    }
   ],
   "source": [
    "x_tranpose_y"
   ]
  },
  {
   "cell_type": "code",
   "execution_count": 184,
   "id": "dee360f7-8540-45df-8eac-51d1ab5e8c29",
   "metadata": {},
   "outputs": [],
   "source": [
    "# Menghitung Slope dan Intercept\n",
    "slope = np.linalg.inv(x_tranpose_x).dot(x_tranpose_y)\n",
    "intercept = (np.sum(y) - np.dot(slope, np.sum(X, axis=0))) / len(X)"
   ]
  },
  {
   "cell_type": "code",
   "execution_count": 185,
   "id": "98dce0f6-0f78-4a24-a1f8-27e063c83101",
   "metadata": {},
   "outputs": [
    {
     "data": {
      "text/plain": [
       "array([3.61262541e+02, 2.09435557e-03])"
      ]
     },
     "execution_count": 185,
     "metadata": {},
     "output_type": "execute_result"
    }
   ],
   "source": [
    "slope"
   ]
  },
  {
   "cell_type": "code",
   "execution_count": 186,
   "id": "00983123-b665-475b-9f29-dad8894ff4b0",
   "metadata": {},
   "outputs": [
    {
     "data": {
      "text/plain": [
       "297.9861010800026"
      ]
     },
     "execution_count": 186,
     "metadata": {},
     "output_type": "execute_result"
    }
   ],
   "source": [
    "intercept"
   ]
  },
  {
   "cell_type": "code",
   "execution_count": 187,
   "id": "3a67d89c-4c00-4dd1-b6f3-92df423a08c2",
   "metadata": {},
   "outputs": [],
   "source": [
    "# Prediksi \n",
    "y_pred = np.round(np.dot(X_test, slope) + intercept)"
   ]
  },
  {
   "cell_type": "code",
   "execution_count": 188,
   "id": "5f4070a9-cf43-4213-bb13-316febbf7557",
   "metadata": {},
   "outputs": [
    {
     "data": {
      "text/plain": [
       "array([2777., 2765., 1182., 2843., 1586., 2506., 3389., 1636.,  855.,\n",
       "       2809., 1742., 3326., 2128.,  989.,  409., 1661., 2594., 3025.,\n",
       "       1733., 3307., 2503., 2175., 3348., 1225., 3312., 2059., 2674.,\n",
       "       2076., 2230., 1725., 2949., 2722., 2591., 1067., 2174., 1538.,\n",
       "       1279., 3013., 1761., 1469.,  719., 2457., 1551., 1021., 1619.,\n",
       "       1905., 1736.,  829., 3383., 2988., 2554., 1981., 2926.,  676.,\n",
       "        692., 2324., 3148., 1686., 1839., 2110., 1829., 2256., 1988.,\n",
       "       1876., 1788.,  900., 1395., 1514., 1109., 1628., 2395., 2521.,\n",
       "       2597., 2210., 2617., 1475., 1217., 1719.,  472., 1994., 2693.,\n",
       "       2253., 2830.,  893., 1622., 1871., 2047., 1690., 1875., 2231.,\n",
       "       2430., 1319., 1921., 1990., 2338., 1762.,  439., 2556., 2284.,\n",
       "       2107., 1125., 1891.,  424., 1087., 1592., 1904., 1393., 1470.,\n",
       "       1683.,  709., 2741., 2011., 1440., 2244.,  681., 2951.,  891.,\n",
       "        491., 3132., 1517., 1706., 2675., 1758.,  822., 1878.,  823.,\n",
       "       2138., 1728., 2584., 1737., 2312.,  859., 2326., 2834., 3471.,\n",
       "       1872., 2854., 2073., 2852., 2551., 2425., 2590., 2154., 1886.,\n",
       "       1916., 1472., 2996., 1513., 2826., 1149., 2146., 2356., 3182.,\n",
       "       1000., 2001., 2416., 2939., 1023., 1690., 2384., 2599., 2699.,\n",
       "       1340., 1420., 1853., 2927., 2151., 3032., 2918., 3301., 1307.,\n",
       "       1887., 2819., 1640., 1507., 3255., 3170., 3307., 2392., 2534.,\n",
       "       1649., 2522., 2411., 1997., 1599., 2001., 2699., 2697., 2659.,\n",
       "       1485., 2412., 1140., 2897.,  993., 3470., 3339., 2731., 1437.,\n",
       "       2054., 2611., 1725., 1144., 1239., 3129., 1542., 2460.,  976.,\n",
       "       3311., 2680., 2084., 1407., 1489., 1022., 1742., 1382., 2086.,\n",
       "       2358., 1165., 1303., 2824.,  826., 2383., 3271.,  878.,  908.,\n",
       "        950., 2241., 2555., 1695., 1747., 2622., 2343., 1755., 2153.,\n",
       "        590.,  899., 2237.,  923., 1665., 1719., 1576.,  968.,  760.,\n",
       "       1105., 2395., 1745., 1984., 2075., 2534., 2475., 3196., 2527.,\n",
       "       1271., 2914., 1980.,  446.,  437., 2547., 2689., 2226., 1503.,\n",
       "       1501., 1199., 2085., 1718., 2867., 1807., 1920., 3396., 1563.,\n",
       "       2915.,  589., 2968., 2927., 1215., 2595., 3416.,  410., 1751.,\n",
       "       1142., 1283., 2524.,  657., 1041., 1506., 1820., 1482., 1902.,\n",
       "       3078., 3054., 2400., 1775., 2522., 2138., 2863., 2869., 2343.,\n",
       "       2482., 1193., 2007., 1589., 1404., 2473., 3189., 2855., 1397.,\n",
       "        834., 2072., 1500., 1183., 1733., 2605., 1566., 1465.,  874.,\n",
       "       1465.,  527., 3104., 2350., 1937.,  602., 1294., 3126., 1858.,\n",
       "       1648., 2181., 2885., 1972., 2274., 2005., 2360., 2868.,  889.,\n",
       "       1935., 2957., 1555., 3415., 1577., 1282., 2651.,  988., 2472.,\n",
       "        885., 2371., 1118.,  783., 1805., 2054., 2880., 2148., 1907.,\n",
       "       1183.,  758., 2250., 3113., 1816., 1405., 2253., 2261., 3229.,\n",
       "       1965., 2565.,  948., 1440., 1134.,  407., 1755., 1178., 3020.,\n",
       "        711., 1808., 3377., 1726., 3248., 1325., 1296., 1798.,  764.,\n",
       "       1868., 2788.])"
      ]
     },
     "execution_count": 188,
     "metadata": {},
     "output_type": "execute_result"
    }
   ],
   "source": [
    "y_pred"
   ]
  },
  {
   "cell_type": "code",
   "execution_count": 189,
   "id": "a352fb8d-c795-4aa2-b4fb-cd15672a61c6",
   "metadata": {},
   "outputs": [
    {
     "data": {
      "text/plain": [
       "-42.067489453665736"
      ]
     },
     "execution_count": 189,
     "metadata": {},
     "output_type": "execute_result"
    }
   ],
   "source": [
    "### Evaluasi Model\n",
    "r2 = 1 - (np.sum((y_test - y_pred))**2 / np.sum((y_test - y_test.mean())**2))\n",
    "r2"
   ]
  },
  {
   "cell_type": "code",
   "execution_count": 190,
   "id": "2527d1d1-5d47-4ab4-b156-44c928bc5cf3",
   "metadata": {},
   "outputs": [
    {
     "data": {
      "text/plain": [
       "-12.0"
      ]
     },
     "execution_count": 190,
     "metadata": {},
     "output_type": "execute_result"
    }
   ],
   "source": [
    "# Menghitung MSE\n",
    "mse = np.mean((y_test - y_pred))\n",
    "mse"
   ]
  },
  {
   "cell_type": "code",
   "execution_count": 191,
   "id": "2c1539d6-a71e-4588-99c8-e3aca65155fc",
   "metadata": {},
   "outputs": [
    {
     "data": {
      "text/plain": [
       "577775.1789473684"
      ]
     },
     "execution_count": 191,
     "metadata": {},
     "output_type": "execute_result"
    }
   ],
   "source": [
    "mae = np.mean(np.abs(y_test - y_pred)**2)\n",
    "mae"
   ]
  },
  {
   "cell_type": "code",
   "execution_count": 195,
   "id": "fdcff944-b90a-4897-b29b-53cfddfa10bf",
   "metadata": {},
   "outputs": [
    {
     "data": {
      "text/plain": [
       "(380,)"
      ]
     },
     "execution_count": 195,
     "metadata": {},
     "output_type": "execute_result"
    }
   ],
   "source": [
    "y_test.shape"
   ]
  },
  {
   "cell_type": "markdown",
   "id": "85451ce9-7f36-45d2-8a67-0e314d51752d",
   "metadata": {},
   "source": [
    "#### Visualisasi Salah "
   ]
  },
  {
   "cell_type": "code",
   "execution_count": 196,
   "id": "ac6998dd-3ddd-4289-869b-44dbe35c85ec",
   "metadata": {},
   "outputs": [
    {
     "data": {
      "image/png": "[encoded data removed]",
      "text/plain": [
       "<Figure size 640x480 with 1 Axes>"
      ]
     },
     "metadata": {},
     "output_type": "display_data"
    }
   ],
   "source": [
    "# Visualisaos\n",
    "plt.scatter(y_test, y_pred)\n",
    "plt.plot([y_test.min(), y_test.max()], [y_test.min(), y_test.max()], '--r')\n",
    "plt.show()"
   ]
  }
 ],
 "metadata": {
  "kernelspec": {
   "display_name": "Python 3 (ipykernel)",
   "language": "python",
   "name": "python3"
  },
  "language_info": {
   "codemirror_mode": {
    "name": "ipython",
    "version": 3
   },
   "file_extension": ".py",
   "mimetype": "text/x-python",
   "name": "python",
   "nbconvert_exporter": "python",
   "pygments_lexer": "ipython3",
   "version": "3.11.7"
  }
 },
 "nbformat": 4,
 "nbformat_minor": 5
}
