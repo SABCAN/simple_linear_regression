{
 "cells": [
  {
   "cell_type": "markdown",
   "metadata": {},
   "source": [
    "## A.Data Prepration"
   ]
  },
  {
   "cell_type": "markdown",
   "metadata": {},
   "source": [
    "### A.1 Import Libbary"
   ]
  },
  {
   "cell_type": "code",
   "execution_count": 123,
   "metadata": {},
   "outputs": [],
   "source": [
    "import pandas as pd \n",
    "import numpy as np \n",
    "import seaborn as sns \n",
    "import matplotlib.pyplot as plt"
   ]
  },
  {
   "cell_type": "markdown",
   "metadata": {},
   "source": [
    "### A.2 Import DataFrame"
   ]
  },
  {
   "cell_type": "code",
   "execution_count": 124,
   "metadata": {},
   "outputs": [],
   "source": [
    "df = pd.read_csv('steam_games.csv')"
   ]
  },
  {
   "cell_type": "markdown",
   "metadata": {},
   "source": [
    "### A.3 Menampilkan 5 data awal"
   ]
  },
  {
   "cell_type": "code",
   "execution_count": 125,
   "metadata": {},
   "outputs": [
    {
     "data": {
      "text/html": [
       "<div>\n",
       "<style scoped>\n",
       "    .dataframe tbody tr th:only-of-type {\n",
       "        vertical-align: middle;\n",
       "    }\n",
       "\n",
       "    .dataframe tbody tr th {\n",
       "        vertical-align: top;\n",
       "    }\n",
       "\n",
       "    .dataframe thead th {\n",
       "        text-align: right;\n",
       "    }\n",
       "</style>\n",
       "<table border=\"1\" class=\"dataframe\">\n",
       "  <thead>\n",
       "    <tr style=\"text-align: right;\">\n",
       "      <th></th>\n",
       "      <th>steam_appid</th>\n",
       "      <th>name</th>\n",
       "      <th>developers</th>\n",
       "      <th>publishers</th>\n",
       "      <th>categories</th>\n",
       "      <th>genres</th>\n",
       "      <th>required_age</th>\n",
       "      <th>n_achievements</th>\n",
       "      <th>platforms</th>\n",
       "      <th>is_released</th>\n",
       "      <th>...</th>\n",
       "      <th>additional_content</th>\n",
       "      <th>total_reviews</th>\n",
       "      <th>total_positive</th>\n",
       "      <th>total_negative</th>\n",
       "      <th>review_score</th>\n",
       "      <th>review_score_desc</th>\n",
       "      <th>positive_percentual</th>\n",
       "      <th>metacritic</th>\n",
       "      <th>is_free</th>\n",
       "      <th>price_initial (USD)</th>\n",
       "    </tr>\n",
       "  </thead>\n",
       "  <tbody>\n",
       "    <tr>\n",
       "      <th>0</th>\n",
       "      <td>2719580</td>\n",
       "      <td>勇者の伝説の勇者</td>\n",
       "      <td>['ぽけそう']</td>\n",
       "      <td>['ぽけそう']</td>\n",
       "      <td>['Single-player', 'Family Sharing']</td>\n",
       "      <td>['Casual', 'Indie']</td>\n",
       "      <td>0</td>\n",
       "      <td>0</td>\n",
       "      <td>['windows']</td>\n",
       "      <td>True</td>\n",
       "      <td>...</td>\n",
       "      <td>[]</td>\n",
       "      <td>0</td>\n",
       "      <td>0</td>\n",
       "      <td>0</td>\n",
       "      <td>0.0</td>\n",
       "      <td>No user reviews</td>\n",
       "      <td>0.0</td>\n",
       "      <td>0</td>\n",
       "      <td>False</td>\n",
       "      <td>0.99</td>\n",
       "    </tr>\n",
       "    <tr>\n",
       "      <th>1</th>\n",
       "      <td>2719590</td>\n",
       "      <td>Light No Fire</td>\n",
       "      <td>['Hello Games']</td>\n",
       "      <td>['Hello Games']</td>\n",
       "      <td>['Single-player', 'Multi-player', 'Co-op', 'On...</td>\n",
       "      <td>['Action', 'Adventure']</td>\n",
       "      <td>0</td>\n",
       "      <td>0</td>\n",
       "      <td>['windows']</td>\n",
       "      <td>False</td>\n",
       "      <td>...</td>\n",
       "      <td>[]</td>\n",
       "      <td>0</td>\n",
       "      <td>0</td>\n",
       "      <td>0</td>\n",
       "      <td>0.0</td>\n",
       "      <td>No user reviews</td>\n",
       "      <td>0.0</td>\n",
       "      <td>0</td>\n",
       "      <td>False</td>\n",
       "      <td>0.00</td>\n",
       "    </tr>\n",
       "    <tr>\n",
       "      <th>2</th>\n",
       "      <td>2719600</td>\n",
       "      <td>Lorhaven: Cursed War</td>\n",
       "      <td>['GoldenGod Games']</td>\n",
       "      <td>['GoldenGod Games']</td>\n",
       "      <td>['Single-player', 'Multi-player', 'PvP', 'Shar...</td>\n",
       "      <td>['RPG', 'Strategy']</td>\n",
       "      <td>0</td>\n",
       "      <td>32</td>\n",
       "      <td>['windows', 'mac']</td>\n",
       "      <td>True</td>\n",
       "      <td>...</td>\n",
       "      <td>[]</td>\n",
       "      <td>9</td>\n",
       "      <td>8</td>\n",
       "      <td>1</td>\n",
       "      <td>0.0</td>\n",
       "      <td>9 user reviews</td>\n",
       "      <td>88.9</td>\n",
       "      <td>0</td>\n",
       "      <td>False</td>\n",
       "      <td>9.99</td>\n",
       "    </tr>\n",
       "    <tr>\n",
       "      <th>3</th>\n",
       "      <td>2719610</td>\n",
       "      <td>PUIQ: Demons</td>\n",
       "      <td>['Giammnn']</td>\n",
       "      <td>['Giammnn']</td>\n",
       "      <td>['Single-player', 'Steam Achievements', 'Famil...</td>\n",
       "      <td>['Action', 'Casual', 'Indie', 'RPG']</td>\n",
       "      <td>0</td>\n",
       "      <td>28</td>\n",
       "      <td>['windows']</td>\n",
       "      <td>True</td>\n",
       "      <td>...</td>\n",
       "      <td>[]</td>\n",
       "      <td>0</td>\n",
       "      <td>0</td>\n",
       "      <td>0</td>\n",
       "      <td>0.0</td>\n",
       "      <td>No user reviews</td>\n",
       "      <td>0.0</td>\n",
       "      <td>0</td>\n",
       "      <td>False</td>\n",
       "      <td>2.99</td>\n",
       "    </tr>\n",
       "    <tr>\n",
       "      <th>4</th>\n",
       "      <td>2719650</td>\n",
       "      <td>Project XSTING</td>\n",
       "      <td>['Saucy Melon']</td>\n",
       "      <td>['Saucy Melon']</td>\n",
       "      <td>['Single-player', 'Steam Achievements', 'Steam...</td>\n",
       "      <td>['Action', 'Casual', 'Indie', 'Early Access']</td>\n",
       "      <td>0</td>\n",
       "      <td>42</td>\n",
       "      <td>['windows']</td>\n",
       "      <td>True</td>\n",
       "      <td>...</td>\n",
       "      <td>[]</td>\n",
       "      <td>9</td>\n",
       "      <td>9</td>\n",
       "      <td>0</td>\n",
       "      <td>0.0</td>\n",
       "      <td>9 user reviews</td>\n",
       "      <td>100.0</td>\n",
       "      <td>0</td>\n",
       "      <td>False</td>\n",
       "      <td>7.99</td>\n",
       "    </tr>\n",
       "  </tbody>\n",
       "</table>\n",
       "<p>5 rows × 21 columns</p>\n",
       "</div>"
      ],
      "text/plain": [
       "   steam_appid                  name           developers  \\\n",
       "0      2719580              勇者の伝説の勇者             ['ぽけそう']   \n",
       "1      2719590         Light No Fire      ['Hello Games']   \n",
       "2      2719600  Lorhaven: Cursed War  ['GoldenGod Games']   \n",
       "3      2719610          PUIQ: Demons          ['Giammnn']   \n",
       "4      2719650        Project XSTING      ['Saucy Melon']   \n",
       "\n",
       "            publishers                                         categories  \\\n",
       "0             ['ぽけそう']                ['Single-player', 'Family Sharing']   \n",
       "1      ['Hello Games']  ['Single-player', 'Multi-player', 'Co-op', 'On...   \n",
       "2  ['GoldenGod Games']  ['Single-player', 'Multi-player', 'PvP', 'Shar...   \n",
       "3          ['Giammnn']  ['Single-player', 'Steam Achievements', 'Famil...   \n",
       "4      ['Saucy Melon']  ['Single-player', 'Steam Achievements', 'Steam...   \n",
       "\n",
       "                                          genres  required_age  \\\n",
       "0                            ['Casual', 'Indie']             0   \n",
       "1                        ['Action', 'Adventure']             0   \n",
       "2                            ['RPG', 'Strategy']             0   \n",
       "3           ['Action', 'Casual', 'Indie', 'RPG']             0   \n",
       "4  ['Action', 'Casual', 'Indie', 'Early Access']             0   \n",
       "\n",
       "   n_achievements           platforms  is_released  ... additional_content  \\\n",
       "0               0         ['windows']         True  ...                 []   \n",
       "1               0         ['windows']        False  ...                 []   \n",
       "2              32  ['windows', 'mac']         True  ...                 []   \n",
       "3              28         ['windows']         True  ...                 []   \n",
       "4              42         ['windows']         True  ...                 []   \n",
       "\n",
       "  total_reviews  total_positive  total_negative  review_score  \\\n",
       "0             0               0               0           0.0   \n",
       "1             0               0               0           0.0   \n",
       "2             9               8               1           0.0   \n",
       "3             0               0               0           0.0   \n",
       "4             9               9               0           0.0   \n",
       "\n",
       "   review_score_desc positive_percentual  metacritic  is_free  \\\n",
       "0    No user reviews                 0.0           0    False   \n",
       "1    No user reviews                 0.0           0    False   \n",
       "2     9 user reviews                88.9           0    False   \n",
       "3    No user reviews                 0.0           0    False   \n",
       "4     9 user reviews               100.0           0    False   \n",
       "\n",
       "   price_initial (USD)  \n",
       "0                 0.99  \n",
       "1                 0.00  \n",
       "2                 9.99  \n",
       "3                 2.99  \n",
       "4                 7.99  \n",
       "\n",
       "[5 rows x 21 columns]"
      ]
     },
     "execution_count": 125,
     "metadata": {},
     "output_type": "execute_result"
    }
   ],
   "source": [
    "df.head()"
   ]
  },
  {
   "cell_type": "markdown",
   "metadata": {},
   "source": [
    "### A.4 Menampilkan 5 Data Terakhir"
   ]
  },
  {
   "cell_type": "code",
   "execution_count": 126,
   "metadata": {},
   "outputs": [
    {
     "data": {
      "text/html": [
       "<div>\n",
       "<style scoped>\n",
       "    .dataframe tbody tr th:only-of-type {\n",
       "        vertical-align: middle;\n",
       "    }\n",
       "\n",
       "    .dataframe tbody tr th {\n",
       "        vertical-align: top;\n",
       "    }\n",
       "\n",
       "    .dataframe thead th {\n",
       "        text-align: right;\n",
       "    }\n",
       "</style>\n",
       "<table border=\"1\" class=\"dataframe\">\n",
       "  <thead>\n",
       "    <tr style=\"text-align: right;\">\n",
       "      <th></th>\n",
       "      <th>steam_appid</th>\n",
       "      <th>name</th>\n",
       "      <th>developers</th>\n",
       "      <th>publishers</th>\n",
       "      <th>categories</th>\n",
       "      <th>genres</th>\n",
       "      <th>required_age</th>\n",
       "      <th>n_achievements</th>\n",
       "      <th>platforms</th>\n",
       "      <th>is_released</th>\n",
       "      <th>...</th>\n",
       "      <th>additional_content</th>\n",
       "      <th>total_reviews</th>\n",
       "      <th>total_positive</th>\n",
       "      <th>total_negative</th>\n",
       "      <th>review_score</th>\n",
       "      <th>review_score_desc</th>\n",
       "      <th>positive_percentual</th>\n",
       "      <th>metacritic</th>\n",
       "      <th>is_free</th>\n",
       "      <th>price_initial (USD)</th>\n",
       "    </tr>\n",
       "  </thead>\n",
       "  <tbody>\n",
       "    <tr>\n",
       "      <th>71424</th>\n",
       "      <td>2294300</td>\n",
       "      <td>Touchdown Pinball</td>\n",
       "      <td>['Super PowerUp Games']</td>\n",
       "      <td>['Super PowerUp Games']</td>\n",
       "      <td>['Single-player', 'Steam Achievements', 'Full ...</td>\n",
       "      <td>['Simulation']</td>\n",
       "      <td>0</td>\n",
       "      <td>15</td>\n",
       "      <td>['windows']</td>\n",
       "      <td>True</td>\n",
       "      <td>...</td>\n",
       "      <td>[]</td>\n",
       "      <td>2</td>\n",
       "      <td>2</td>\n",
       "      <td>0</td>\n",
       "      <td>0.0</td>\n",
       "      <td>2 user reviews</td>\n",
       "      <td>100.0</td>\n",
       "      <td>0</td>\n",
       "      <td>False</td>\n",
       "      <td>2.99</td>\n",
       "    </tr>\n",
       "    <tr>\n",
       "      <th>71425</th>\n",
       "      <td>2294250</td>\n",
       "      <td>Speed Golf Royale</td>\n",
       "      <td>['Mainframe Games']</td>\n",
       "      <td>['Mainframe Games']</td>\n",
       "      <td>['Single-player', 'Multi-player', 'PvP', 'Onli...</td>\n",
       "      <td>['Action', 'Casual', 'Indie', 'Massively Multi...</td>\n",
       "      <td>0</td>\n",
       "      <td>0</td>\n",
       "      <td>['windows']</td>\n",
       "      <td>False</td>\n",
       "      <td>...</td>\n",
       "      <td>[]</td>\n",
       "      <td>0</td>\n",
       "      <td>0</td>\n",
       "      <td>0</td>\n",
       "      <td>0.0</td>\n",
       "      <td>No user reviews</td>\n",
       "      <td>0.0</td>\n",
       "      <td>0</td>\n",
       "      <td>False</td>\n",
       "      <td>0.00</td>\n",
       "    </tr>\n",
       "    <tr>\n",
       "      <th>71426</th>\n",
       "      <td>2294160</td>\n",
       "      <td>Isle of Swaps</td>\n",
       "      <td>['Fuzz Force']</td>\n",
       "      <td>['Fuzz Force']</td>\n",
       "      <td>['Single-player', 'Steam Achievements', 'Steam...</td>\n",
       "      <td>['Indie', 'RPG', 'Strategy']</td>\n",
       "      <td>0</td>\n",
       "      <td>29</td>\n",
       "      <td>['windows']</td>\n",
       "      <td>True</td>\n",
       "      <td>...</td>\n",
       "      <td>[]</td>\n",
       "      <td>72</td>\n",
       "      <td>66</td>\n",
       "      <td>6</td>\n",
       "      <td>8.0</td>\n",
       "      <td>Very Positive</td>\n",
       "      <td>91.7</td>\n",
       "      <td>0</td>\n",
       "      <td>False</td>\n",
       "      <td>14.99</td>\n",
       "    </tr>\n",
       "    <tr>\n",
       "      <th>71427</th>\n",
       "      <td>2294130</td>\n",
       "      <td>Goobies</td>\n",
       "      <td>['Knifes']</td>\n",
       "      <td>['Knifes']</td>\n",
       "      <td>['Single-player', 'Steam Achievements', 'Full ...</td>\n",
       "      <td>['Action', 'Casual', 'Indie', 'RPG', 'Strategy']</td>\n",
       "      <td>0</td>\n",
       "      <td>43</td>\n",
       "      <td>['windows']</td>\n",
       "      <td>True</td>\n",
       "      <td>...</td>\n",
       "      <td>[]</td>\n",
       "      <td>1442</td>\n",
       "      <td>1312</td>\n",
       "      <td>130</td>\n",
       "      <td>8.0</td>\n",
       "      <td>Very Positive</td>\n",
       "      <td>91.0</td>\n",
       "      <td>0</td>\n",
       "      <td>False</td>\n",
       "      <td>5.99</td>\n",
       "    </tr>\n",
       "    <tr>\n",
       "      <th>71428</th>\n",
       "      <td>2294630</td>\n",
       "      <td>WindowBlinds 11</td>\n",
       "      <td>['Stardock']</td>\n",
       "      <td>['Stardock']</td>\n",
       "      <td>[]</td>\n",
       "      <td>['Utilities']</td>\n",
       "      <td>0</td>\n",
       "      <td>0</td>\n",
       "      <td>['windows']</td>\n",
       "      <td>True</td>\n",
       "      <td>...</td>\n",
       "      <td>['WindowBlinds 11 - SkinStudio']</td>\n",
       "      <td>44</td>\n",
       "      <td>24</td>\n",
       "      <td>20</td>\n",
       "      <td>5.0</td>\n",
       "      <td>Mixed</td>\n",
       "      <td>54.5</td>\n",
       "      <td>0</td>\n",
       "      <td>False</td>\n",
       "      <td>29.99</td>\n",
       "    </tr>\n",
       "  </tbody>\n",
       "</table>\n",
       "<p>5 rows × 21 columns</p>\n",
       "</div>"
      ],
      "text/plain": [
       "       steam_appid               name               developers  \\\n",
       "71424      2294300  Touchdown Pinball  ['Super PowerUp Games']   \n",
       "71425      2294250  Speed Golf Royale      ['Mainframe Games']   \n",
       "71426      2294160      Isle of Swaps           ['Fuzz Force']   \n",
       "71427      2294130            Goobies               ['Knifes']   \n",
       "71428      2294630    WindowBlinds 11             ['Stardock']   \n",
       "\n",
       "                    publishers  \\\n",
       "71424  ['Super PowerUp Games']   \n",
       "71425      ['Mainframe Games']   \n",
       "71426           ['Fuzz Force']   \n",
       "71427               ['Knifes']   \n",
       "71428             ['Stardock']   \n",
       "\n",
       "                                              categories  \\\n",
       "71424  ['Single-player', 'Steam Achievements', 'Full ...   \n",
       "71425  ['Single-player', 'Multi-player', 'PvP', 'Onli...   \n",
       "71426  ['Single-player', 'Steam Achievements', 'Steam...   \n",
       "71427  ['Single-player', 'Steam Achievements', 'Full ...   \n",
       "71428                                                 []   \n",
       "\n",
       "                                                  genres  required_age  \\\n",
       "71424                                     ['Simulation']             0   \n",
       "71425  ['Action', 'Casual', 'Indie', 'Massively Multi...             0   \n",
       "71426                       ['Indie', 'RPG', 'Strategy']             0   \n",
       "71427   ['Action', 'Casual', 'Indie', 'RPG', 'Strategy']             0   \n",
       "71428                                      ['Utilities']             0   \n",
       "\n",
       "       n_achievements    platforms  is_released  ...  \\\n",
       "71424              15  ['windows']         True  ...   \n",
       "71425               0  ['windows']        False  ...   \n",
       "71426              29  ['windows']         True  ...   \n",
       "71427              43  ['windows']         True  ...   \n",
       "71428               0  ['windows']         True  ...   \n",
       "\n",
       "                     additional_content total_reviews  total_positive  \\\n",
       "71424                                []             2               2   \n",
       "71425                                []             0               0   \n",
       "71426                                []            72              66   \n",
       "71427                                []          1442            1312   \n",
       "71428  ['WindowBlinds 11 - SkinStudio']            44              24   \n",
       "\n",
       "       total_negative  review_score  review_score_desc positive_percentual  \\\n",
       "71424               0           0.0     2 user reviews               100.0   \n",
       "71425               0           0.0    No user reviews                 0.0   \n",
       "71426               6           8.0      Very Positive                91.7   \n",
       "71427             130           8.0      Very Positive                91.0   \n",
       "71428              20           5.0              Mixed                54.5   \n",
       "\n",
       "       metacritic  is_free  price_initial (USD)  \n",
       "71424           0    False                 2.99  \n",
       "71425           0    False                 0.00  \n",
       "71426           0    False                14.99  \n",
       "71427           0    False                 5.99  \n",
       "71428           0    False                29.99  \n",
       "\n",
       "[5 rows x 21 columns]"
      ]
     },
     "execution_count": 126,
     "metadata": {},
     "output_type": "execute_result"
    }
   ],
   "source": [
    "df.tail()"
   ]
  },
  {
   "cell_type": "markdown",
   "metadata": {},
   "source": [
    "### A.5 Dimensi pada DataFrame"
   ]
  },
  {
   "cell_type": "code",
   "execution_count": 127,
   "metadata": {},
   "outputs": [
    {
     "name": "stdout",
     "output_type": "stream",
     "text": [
      "Dimensi pada DataFrame adalah : (71429, 21)\n"
     ]
    }
   ],
   "source": [
    "print(f\"Dimensi pada DataFrame adalah : {df.shape}\")"
   ]
  },
  {
   "cell_type": "markdown",
   "metadata": {},
   "source": [
    "## B. Data Preprocessing"
   ]
  },
  {
   "cell_type": "markdown",
   "metadata": {},
   "source": [
    "### B.1 Informasi pada DataFrame"
   ]
  },
  {
   "cell_type": "code",
   "execution_count": 128,
   "metadata": {},
   "outputs": [
    {
     "name": "stdout",
     "output_type": "stream",
     "text": [
      "<class 'pandas.core.frame.DataFrame'>\n",
      "RangeIndex: 71429 entries, 0 to 71428\n",
      "Data columns (total 21 columns):\n",
      " #   Column               Non-Null Count  Dtype  \n",
      "---  ------               --------------  -----  \n",
      " 0   steam_appid          71429 non-null  int64  \n",
      " 1   name                 71429 non-null  object \n",
      " 2   developers           71429 non-null  object \n",
      " 3   publishers           71429 non-null  object \n",
      " 4   categories           71429 non-null  object \n",
      " 5   genres               71429 non-null  object \n",
      " 6   required_age         71429 non-null  int64  \n",
      " 7   n_achievements       71429 non-null  int64  \n",
      " 8   platforms            71429 non-null  object \n",
      " 9   is_released          71429 non-null  bool   \n",
      " 10  release_date         71429 non-null  object \n",
      " 11  additional_content   71429 non-null  object \n",
      " 12  total_reviews        71429 non-null  int64  \n",
      " 13  total_positive       71429 non-null  int64  \n",
      " 14  total_negative       71429 non-null  int64  \n",
      " 15  review_score         71429 non-null  float64\n",
      " 16  review_score_desc    71429 non-null  object \n",
      " 17  positive_percentual  71429 non-null  float64\n",
      " 18  metacritic           71429 non-null  int64  \n",
      " 19  is_free              71429 non-null  bool   \n",
      " 20  price_initial (USD)  71429 non-null  float64\n",
      "dtypes: bool(2), float64(3), int64(7), object(9)\n",
      "memory usage: 10.5+ MB\n"
     ]
    }
   ],
   "source": [
    "df.info()"
   ]
  },
  {
   "cell_type": "markdown",
   "metadata": {},
   "source": [
    "### B.2 Tampilkan Nilai pada DataFrame"
   ]
  },
  {
   "cell_type": "code",
   "execution_count": 129,
   "metadata": {},
   "outputs": [
    {
     "name": "stdout",
     "output_type": "stream",
     "text": [
      "Tampilkan nilai unik pada DataFrame : \n",
      "steam_appid            71429\n",
      "name                   70990\n",
      "developers             49545\n",
      "publishers             44187\n",
      "categories              6995\n",
      "genres                  2373\n",
      "required_age              69\n",
      "n_achievements           343\n",
      "platforms                  7\n",
      "is_released                2\n",
      "release_date            4346\n",
      "additional_content      7154\n",
      "total_reviews           2770\n",
      "total_positive          2598\n",
      "total_negative          1190\n",
      "review_score              10\n",
      "review_score_desc         19\n",
      "positive_percentual      805\n",
      "metacritic                69\n",
      "is_free                    2\n",
      "price_initial (USD)      247\n",
      "dtype: int64\n"
     ]
    }
   ],
   "source": [
    "print(f\"Tampilkan nilai unik pada DataFrame : \\n{df.nunique()}\")"
   ]
  },
  {
   "cell_type": "markdown",
   "metadata": {},
   "source": [
    "### B.3 Check data Duplicated pada DataFrame"
   ]
  },
  {
   "cell_type": "code",
   "execution_count": 130,
   "metadata": {},
   "outputs": [
    {
     "name": "stdout",
     "output_type": "stream",
     "text": [
      "Check Data Duplicated pada DataFrame : 0\n"
     ]
    }
   ],
   "source": [
    "print(f\"Check Data Duplicated pada DataFrame : {df.duplicated().sum()}\")"
   ]
  },
  {
   "cell_type": "markdown",
   "metadata": {},
   "source": [
    "### B.4 Check data kosong"
   ]
  },
  {
   "cell_type": "code",
   "execution_count": 131,
   "metadata": {},
   "outputs": [
    {
     "name": "stdout",
     "output_type": "stream",
     "text": [
      "Check data kosong : \n",
      "steam_appid            0\n",
      "name                   0\n",
      "developers             0\n",
      "publishers             0\n",
      "categories             0\n",
      "genres                 0\n",
      "required_age           0\n",
      "n_achievements         0\n",
      "platforms              0\n",
      "is_released            0\n",
      "release_date           0\n",
      "additional_content     0\n",
      "total_reviews          0\n",
      "total_positive         0\n",
      "total_negative         0\n",
      "review_score           0\n",
      "review_score_desc      0\n",
      "positive_percentual    0\n",
      "metacritic             0\n",
      "is_free                0\n",
      "price_initial (USD)    0\n",
      "dtype: int64\n"
     ]
    }
   ],
   "source": [
    "print(f\"Check data kosong : \\n{df.isna().sum()}\")"
   ]
  },
  {
   "cell_type": "markdown",
   "metadata": {},
   "source": [
    "### B.5 Menghapus kolom yang tidak di gunakan"
   ]
  },
  {
   "cell_type": "code",
   "execution_count": 132,
   "metadata": {},
   "outputs": [
    {
     "name": "stdout",
     "output_type": "stream",
     "text": [
      "Index(['steam_appid', 'name', 'developers', 'publishers', 'categories',\n",
      "       'genres', 'required_age', 'n_achievements', 'platforms', 'is_released',\n",
      "       'release_date', 'additional_content', 'total_reviews', 'total_positive',\n",
      "       'total_negative', 'review_score', 'review_score_desc',\n",
      "       'positive_percentual', 'metacritic', 'is_free', 'price_initial (USD)'],\n",
      "      dtype='object')\n"
     ]
    }
   ],
   "source": [
    "print(df.columns)"
   ]
  },
  {
   "cell_type": "code",
   "execution_count": 133,
   "metadata": {},
   "outputs": [],
   "source": [
    "df = df.drop(columns=['steam_appid', 'name', 'developers', 'publishers', \n",
    "                      'categories', 'genres', 'required_age', 'n_achievements', 'is_released', 'release_date',\n",
    "                      'additional_content','review_score', 'review_score_desc', 'metacritic', 'is_free', 'price_initial (USD)'], axis=1)"
   ]
  },
  {
   "cell_type": "code",
   "execution_count": 134,
   "metadata": {},
   "outputs": [
    {
     "name": "stdout",
     "output_type": "stream",
     "text": [
      "Check Dimensi pada DatFrame kembali : (71429, 5)\n"
     ]
    }
   ],
   "source": [
    "print(f\"Check Dimensi pada DatFrame kembali : {df.shape}\")"
   ]
  },
  {
   "cell_type": "code",
   "execution_count": 135,
   "metadata": {},
   "outputs": [
    {
     "data": {
      "text/plain": [
       "platforms\n",
       "['windows']                    54889\n",
       "['windows', 'mac', 'linux']     7362\n",
       "['windows', 'mac']              6539\n",
       "['windows', 'linux']            2611\n",
       "['mac']                           21\n",
       "['linux']                          6\n",
       "['mac', 'linux']                   1\n",
       "Name: count, dtype: int64"
      ]
     },
     "execution_count": 135,
     "metadata": {},
     "output_type": "execute_result"
    }
   ],
   "source": [
    "df['platforms'].value_counts()"
   ]
  },
  {
   "cell_type": "markdown",
   "metadata": {},
   "source": [
    "### B.6 Merubah isi dari kolom platform menjadi numerik"
   ]
  },
  {
   "cell_type": "code",
   "execution_count": 136,
   "metadata": {},
   "outputs": [
    {
     "data": {
      "text/plain": [
       "(<bound method NDFrame.head of                 platforms  windows  mac  linux\n",
       " 0             ['windows']        1    0      0\n",
       " 1             ['windows']        1    0      0\n",
       " 2      ['windows', 'mac']        1    1      0\n",
       " 3             ['windows']        1    0      0\n",
       " 4             ['windows']        1    0      0\n",
       " ...                   ...      ...  ...    ...\n",
       " 71424         ['windows']        1    0      0\n",
       " 71425         ['windows']        1    0      0\n",
       " 71426         ['windows']        1    0      0\n",
       " 71427         ['windows']        1    0      0\n",
       " 71428         ['windows']        1    0      0\n",
       " \n",
       " [71429 rows x 4 columns]>,\n",
       " windows    71401\n",
       " mac        13923\n",
       " linux       9980\n",
       " dtype: int64)"
      ]
     },
     "execution_count": 136,
     "metadata": {},
     "output_type": "execute_result"
    }
   ],
   "source": [
    "df['windows'] = df['platforms'].str.contains('windows').astype(int)\n",
    "df['mac'] = df['platforms'].str.contains('mac').astype(int)\n",
    "df['linux'] = df['platforms'].str.contains('linux').astype(int)\n",
    "## Meampilkan set data yang di perbarui dengan kolom tertentu\n",
    "df[['platforms', 'windows', 'mac', 'linux']].head, df[['windows', 'mac', 'linux']].sum()"
   ]
  },
  {
   "cell_type": "markdown",
   "metadata": {},
   "source": [
    "### B.7 Deskripsi kan DataFrame"
   ]
  },
  {
   "cell_type": "code",
   "execution_count": 137,
   "metadata": {},
   "outputs": [
    {
     "data": {
      "text/html": [
       "<div>\n",
       "<style scoped>\n",
       "    .dataframe tbody tr th:only-of-type {\n",
       "        vertical-align: middle;\n",
       "    }\n",
       "\n",
       "    .dataframe tbody tr th {\n",
       "        vertical-align: top;\n",
       "    }\n",
       "\n",
       "    .dataframe thead th {\n",
       "        text-align: right;\n",
       "    }\n",
       "</style>\n",
       "<table border=\"1\" class=\"dataframe\">\n",
       "  <thead>\n",
       "    <tr style=\"text-align: right;\">\n",
       "      <th></th>\n",
       "      <th>count</th>\n",
       "      <th>mean</th>\n",
       "      <th>std</th>\n",
       "      <th>min</th>\n",
       "      <th>25%</th>\n",
       "      <th>50%</th>\n",
       "      <th>75%</th>\n",
       "      <th>max</th>\n",
       "    </tr>\n",
       "  </thead>\n",
       "  <tbody>\n",
       "    <tr>\n",
       "      <th>total_reviews</th>\n",
       "      <td>71429.0</td>\n",
       "      <td>410.249731</td>\n",
       "      <td>8389.933637</td>\n",
       "      <td>0.0</td>\n",
       "      <td>0.0</td>\n",
       "      <td>2.0</td>\n",
       "      <td>19.0</td>\n",
       "      <td>1279700.0</td>\n",
       "    </tr>\n",
       "    <tr>\n",
       "      <th>total_positive</th>\n",
       "      <td>71429.0</td>\n",
       "      <td>360.223845</td>\n",
       "      <td>7409.672044</td>\n",
       "      <td>0.0</td>\n",
       "      <td>0.0</td>\n",
       "      <td>2.0</td>\n",
       "      <td>14.0</td>\n",
       "      <td>1107275.0</td>\n",
       "    </tr>\n",
       "    <tr>\n",
       "      <th>total_negative</th>\n",
       "      <td>71429.0</td>\n",
       "      <td>50.025886</td>\n",
       "      <td>1171.055349</td>\n",
       "      <td>0.0</td>\n",
       "      <td>0.0</td>\n",
       "      <td>0.0</td>\n",
       "      <td>4.0</td>\n",
       "      <td>172425.0</td>\n",
       "    </tr>\n",
       "    <tr>\n",
       "      <th>positive_percentual</th>\n",
       "      <td>71429.0</td>\n",
       "      <td>46.113290</td>\n",
       "      <td>41.961702</td>\n",
       "      <td>0.0</td>\n",
       "      <td>0.0</td>\n",
       "      <td>50.0</td>\n",
       "      <td>88.0</td>\n",
       "      <td>100.0</td>\n",
       "    </tr>\n",
       "    <tr>\n",
       "      <th>windows</th>\n",
       "      <td>71429.0</td>\n",
       "      <td>0.999608</td>\n",
       "      <td>0.019795</td>\n",
       "      <td>0.0</td>\n",
       "      <td>1.0</td>\n",
       "      <td>1.0</td>\n",
       "      <td>1.0</td>\n",
       "      <td>1.0</td>\n",
       "    </tr>\n",
       "    <tr>\n",
       "      <th>mac</th>\n",
       "      <td>71429.0</td>\n",
       "      <td>0.194921</td>\n",
       "      <td>0.396143</td>\n",
       "      <td>0.0</td>\n",
       "      <td>0.0</td>\n",
       "      <td>0.0</td>\n",
       "      <td>0.0</td>\n",
       "      <td>1.0</td>\n",
       "    </tr>\n",
       "    <tr>\n",
       "      <th>linux</th>\n",
       "      <td>71429.0</td>\n",
       "      <td>0.139719</td>\n",
       "      <td>0.346698</td>\n",
       "      <td>0.0</td>\n",
       "      <td>0.0</td>\n",
       "      <td>0.0</td>\n",
       "      <td>0.0</td>\n",
       "      <td>1.0</td>\n",
       "    </tr>\n",
       "  </tbody>\n",
       "</table>\n",
       "</div>"
      ],
      "text/plain": [
       "                       count        mean          std  min  25%   50%   75%  \\\n",
       "total_reviews        71429.0  410.249731  8389.933637  0.0  0.0   2.0  19.0   \n",
       "total_positive       71429.0  360.223845  7409.672044  0.0  0.0   2.0  14.0   \n",
       "total_negative       71429.0   50.025886  1171.055349  0.0  0.0   0.0   4.0   \n",
       "positive_percentual  71429.0   46.113290    41.961702  0.0  0.0  50.0  88.0   \n",
       "windows              71429.0    0.999608     0.019795  0.0  1.0   1.0   1.0   \n",
       "mac                  71429.0    0.194921     0.396143  0.0  0.0   0.0   0.0   \n",
       "linux                71429.0    0.139719     0.346698  0.0  0.0   0.0   0.0   \n",
       "\n",
       "                           max  \n",
       "total_reviews        1279700.0  \n",
       "total_positive       1107275.0  \n",
       "total_negative        172425.0  \n",
       "positive_percentual      100.0  \n",
       "windows                    1.0  \n",
       "mac                        1.0  \n",
       "linux                      1.0  "
      ]
     },
     "execution_count": 137,
     "metadata": {},
     "output_type": "execute_result"
    }
   ],
   "source": [
    "df.describe().T"
   ]
  },
  {
   "cell_type": "markdown",
   "metadata": {},
   "source": [
    "## C. Edalry Data Analis"
   ]
  },
  {
   "cell_type": "markdown",
   "metadata": {},
   "source": [
    "### C.1 Visualisasi Boxplot"
   ]
  },
  {
   "cell_type": "code",
   "execution_count": 138,
   "metadata": {},
   "outputs": [
    {
     "data": {
      "text/plain": [
       "<Axes: >"
      ]
     },
     "execution_count": 138,
     "metadata": {},
     "output_type": "execute_result"
    },
    {
     "data": {
      "image/png": "[encoded data removed]",
      "text/plain": [
       "<Figure size 640x480 with 1 Axes>"
      ]
     },
     "metadata": {},
     "output_type": "display_data"
    }
   ],
   "source": [
    "sns.boxplot(df)"
   ]
  },
  {
   "cell_type": "markdown",
   "metadata": {},
   "source": [
    "### C.2 Visualisasi countplot"
   ]
  },
  {
   "cell_type": "code",
   "execution_count": 139,
   "metadata": {},
   "outputs": [
    {
     "data": {
      "image/png": "[encoded data removed]",
      "text/plain": [
       "<Figure size 640x480 with 1 Axes>"
      ]
     },
     "metadata": {},
     "output_type": "display_data"
    }
   ],
   "source": [
    "sns.countplot(df, y=df['platforms'])\n",
    "plt.show()"
   ]
  },
  {
   "cell_type": "markdown",
   "metadata": {},
   "source": [
    "### C.3 Visualisasi pie char"
   ]
  },
  {
   "cell_type": "code",
   "execution_count": 140,
   "metadata": {},
   "outputs": [
    {
     "data": {
      "image/png": "[encoded data removed]",
      "text/plain": [
       "<Figure size 1500x1000 with 1 Axes>"
      ]
     },
     "metadata": {},
     "output_type": "display_data"
    }
   ],
   "source": [
    "df_char = df['platforms'].value_counts()\n",
    "\n",
    "plt.figure(figsize=(15, 10))\n",
    "plt.pie(df_char.values, labels=df_char.index, autopct=\"%1.1f%%\", colors=['pink', 'skyblue', 'green', 'yellow', 'red', 'blue', 'orange'])\n",
    "plt.title(\"Visualisasi Windows vs. mac and Linux\")\n",
    "plt.legend()\n",
    "plt.show()"
   ]
  },
  {
   "cell_type": "markdown",
   "metadata": {},
   "source": [
    "## D. Pemodelan DataFrame"
   ]
  },
  {
   "cell_type": "markdown",
   "metadata": {},
   "source": [
    "### D.1 Menetukan Data Indepent dan Dependent"
   ]
  },
  {
   "cell_type": "code",
   "execution_count": 141,
   "metadata": {},
   "outputs": [],
   "source": [
    "X = df[['windows']].values\n",
    "y = df['total_reviews'].values"
   ]
  },
  {
   "cell_type": "markdown",
   "metadata": {},
   "source": [
    "### D.2 Mengubah menjadi array"
   ]
  },
  {
   "cell_type": "code",
   "execution_count": 142,
   "metadata": {},
   "outputs": [],
   "source": [
    "X = np.array(X)\n",
    "y = np.array(y)"
   ]
  },
  {
   "cell_type": "markdown",
   "metadata": {},
   "source": [
    "### D.3 Featur Scalling"
   ]
  },
  {
   "cell_type": "code",
   "execution_count": 143,
   "metadata": {},
   "outputs": [],
   "source": [
    "def feature_scalling(X):\n",
    "  return (X - X.min() / X.max() - X.min())"
   ]
  },
  {
   "cell_type": "markdown",
   "metadata": {},
   "source": [
    "#### D.3.1 Featur Scalling pada Indepedent"
   ]
  },
  {
   "cell_type": "code",
   "execution_count": 144,
   "metadata": {},
   "outputs": [],
   "source": [
    "x = feature_scalling(X)"
   ]
  },
  {
   "cell_type": "markdown",
   "metadata": {},
   "source": [
    "### D.4 Split Data Training biasa"
   ]
  },
  {
   "cell_type": "code",
   "execution_count": 145,
   "metadata": {},
   "outputs": [],
   "source": [
    "np.random.seed(42)\n",
    "train_size= int(len(x) * 0.8)\n",
    "idx = np.random.permutation(len(x))\n",
    "x_train, x_test = x[idx[:train_size]], x[idx[train_size:]]\n",
    "y_train, y_test = y[idx[:train_size]], y[idx[train_size:]]"
   ]
  },
  {
   "cell_type": "markdown",
   "metadata": {},
   "source": [
    "### D.5 Hasil Data Training and Data Testing"
   ]
  },
  {
   "cell_type": "code",
   "execution_count": 146,
   "metadata": {},
   "outputs": [
    {
     "name": "stdout",
     "output_type": "stream",
     "text": [
      "--------------------------------------------------\n",
      "Hasil Data Training adalal : (57143, 1),(57143,)\n",
      "Hasil Data Testing adalal : (14286, 1),(14286,)\n",
      "--------------------------------------------------\n"
     ]
    }
   ],
   "source": [
    "print('-'*50)\n",
    "print(f\"Hasil Data Training adalal : {x_train.shape},{y_train.shape}\")\n",
    "print(f\"Hasil Data Testing adalal : {x_test.shape},{y_test.shape}\")\n",
    "print('-'*50)"
   ]
  },
  {
   "cell_type": "markdown",
   "metadata": {},
   "source": [
    "### D.6 Tranpose Ubah Garis menjadi kolom"
   ]
  },
  {
   "cell_type": "code",
   "execution_count": 147,
   "metadata": {},
   "outputs": [],
   "source": [
    "x_tranpose = x.T"
   ]
  },
  {
   "cell_type": "markdown",
   "metadata": {},
   "source": [
    "### D.7 Perkalian x.T dengan x"
   ]
  },
  {
   "cell_type": "code",
   "execution_count": 148,
   "metadata": {},
   "outputs": [],
   "source": [
    "x_tranpose_x = np.dot(x_tranpose, x)"
   ]
  },
  {
   "cell_type": "code",
   "execution_count": 149,
   "metadata": {},
   "outputs": [
    {
     "data": {
      "text/plain": [
       "array([[71401.]])"
      ]
     },
     "execution_count": 149,
     "metadata": {},
     "output_type": "execute_result"
    }
   ],
   "source": [
    "x_tranpose_x"
   ]
  },
  {
   "cell_type": "markdown",
   "metadata": {},
   "source": [
    "### D.8 Perkalian x.T dengan y"
   ]
  },
  {
   "cell_type": "code",
   "execution_count": 150,
   "metadata": {},
   "outputs": [],
   "source": [
    "x_tranpose_y = np.dot(x_tranpose, y)"
   ]
  },
  {
   "cell_type": "code",
   "execution_count": 151,
   "metadata": {},
   "outputs": [
    {
     "data": {
      "text/plain": [
       "array([29303420.])"
      ]
     },
     "execution_count": 151,
     "metadata": {},
     "output_type": "execute_result"
    }
   ],
   "source": [
    "x_tranpose_y"
   ]
  },
  {
   "cell_type": "markdown",
   "metadata": {},
   "source": [
    "### D.9 Menghitung slope and weights"
   ]
  },
  {
   "cell_type": "code",
   "execution_count": 152,
   "metadata": {},
   "outputs": [],
   "source": [
    "weights = np.linalg.inv(x_tranpose_x).dot(x_tranpose_y)\n",
    "slope = (np.sum(y) - np.dot(weights, np.sum(x, axis=0))) / len(x)"
   ]
  },
  {
   "cell_type": "code",
   "execution_count": 153,
   "metadata": {},
   "outputs": [
    {
     "name": "stdout",
     "output_type": "stream",
     "text": [
      "Hasil Weights : [410.40629683]\n",
      "Hasil slope : 0.004311974128155231\n"
     ]
    }
   ],
   "source": [
    "print(f\"Hasil Weights : {weights}\")\n",
    "print(f\"Hasil slope : {slope}\")"
   ]
  },
  {
   "cell_type": "markdown",
   "metadata": {},
   "source": [
    "### D.10 Prediksi"
   ]
  },
  {
   "cell_type": "code",
   "execution_count": 156,
   "metadata": {},
   "outputs": [
    {
     "data": {
      "text/plain": [
       "array([410., 410., 410., ..., 410., 410., 410.])"
      ]
     },
     "execution_count": 156,
     "metadata": {},
     "output_type": "execute_result"
    }
   ],
   "source": [
    "y_pred = np.round(np.dot(x_test, weights) + slope)\n",
    "y_pred"
   ]
  },
  {
   "cell_type": "markdown",
   "metadata": {},
   "source": [
    "## D.11 Membuat Logika untuk membuat nilai 0 dan 1"
   ]
  },
  {
   "cell_type": "code",
   "execution_count": 189,
   "metadata": {},
   "outputs": [],
   "source": [
    "y_pred_logika = np.where(y_pred >= 0.5, 1, 0)"
   ]
  },
  {
   "cell_type": "code",
   "execution_count": 191,
   "metadata": {},
   "outputs": [
    {
     "name": "stdout",
     "output_type": "stream",
     "text": [
      "[1 1 1 ... 1 1 1]\n"
     ]
    }
   ],
   "source": [
    "print(y_pred_logika)"
   ]
  },
  {
   "cell_type": "markdown",
   "metadata": {},
   "source": [
    "### D.12 Evaluasi model "
   ]
  },
  {
   "cell_type": "code",
   "execution_count": 160,
   "metadata": {},
   "outputs": [
    {
     "name": "stdout",
     "output_type": "stream",
     "text": [
      "Hasil Evaluasi Model : 0.9999900285740607\n"
     ]
    }
   ],
   "source": [
    "# r2  = 1 - (np.sum((y_test - y_pred)) ** 2 / np.sum((x_test - x_test.mean()) **2))\n",
    "# print(f\"Hasil Evaluasi Model : {r2}\")\n",
    "\n",
    "\n",
    "# Menggunakan R2\n",
    "ss_total = np.sum((y_test - y_test.mean())**2)\n",
    "ss_redicual = np.sum((y_test - y_pred_logika))\n",
    "\n",
    "r2 = 1 -(ss_redicual / ss_total)\n",
    "print(f\"Hasil Evaluasi Model : {r2}\")"
   ]
  },
  {
   "cell_type": "markdown",
   "metadata": {},
   "source": [
    "### D.13 MSE"
   ]
  },
  {
   "cell_type": "code",
   "execution_count": 161,
   "metadata": {},
   "outputs": [
    {
     "name": "stdout",
     "output_type": "stream",
     "text": [
      "Hasil MSE adalah : 5894324\n"
     ]
    }
   ],
   "source": [
    "mse = np.sum((y_test - y_pred_logika))\n",
    "print(f\"Hasil MSE adalah : {mse}\")"
   ]
  },
  {
   "cell_type": "markdown",
   "metadata": {},
   "source": [
    "### D.14 MAE"
   ]
  },
  {
   "cell_type": "code",
   "execution_count": 162,
   "metadata": {},
   "outputs": [
    {
     "name": "stdout",
     "output_type": "stream",
     "text": [
      "Hasil MAE adalah : 41547910.19949601\n"
     ]
    }
   ],
   "source": [
    "mae = np.mean(np.abs(y_test - y_pred_logika)**2)\n",
    "print(f\"Hasil MAE adalah : {mae}\")"
   ]
  },
  {
   "cell_type": "markdown",
   "metadata": {},
   "source": [
    "### D.15 Visualisasi Plot"
   ]
  },
  {
   "cell_type": "code",
   "execution_count": 186,
   "metadata": {},
   "outputs": [
    {
     "data": {
      "image/png": "[encoded data removed]",
      "text/plain": [
       "<Figure size 640x480 with 1 Axes>"
      ]
     },
     "metadata": {},
     "output_type": "display_data"
    }
   ],
   "source": [
    "plt.scatter(y_test, y_test)\n",
    "plt.plot([y_test.min(), y_test.max()], [y_test.min(), y_test.max()],'--r')\n",
    "plt.title(\"Visualisasi Prediksi penggunaan Windows\")\n",
    "plt.show()"
   ]
  },
  {
   "cell_type": "code",
   "execution_count": 173,
   "metadata": {},
   "outputs": [
    {
     "name": "stdout",
     "output_type": "stream",
     "text": [
      "Check Nilai unik pada y_test : [     0      1      2 ... 222427 318186 388098]\n",
      "Check Nilai unik pada y_pred_logika :[0 1]\n"
     ]
    }
   ],
   "source": [
    "print(f\"Check Nilai unik pada y_test : {np.unique(y_test)}\")\n",
    "print(f\"Check Nilai unik pada y_pred_logika :{np.unique(y_pred_logika)}\")"
   ]
  },
  {
   "cell_type": "code",
   "execution_count": 165,
   "metadata": {},
   "outputs": [
    {
     "data": {
      "text/plain": [
       "(14286,)"
      ]
     },
     "execution_count": 165,
     "metadata": {},
     "output_type": "execute_result"
    }
   ],
   "source": [
    "y_pred_logika.shape"
   ]
  },
  {
   "cell_type": "markdown",
   "metadata": {},
   "source": [
    "### D.16 Mengganti nilai y_test yang data kontinu"
   ]
  },
  {
   "cell_type": "code",
   "execution_count": 174,
   "metadata": {},
   "outputs": [],
   "source": [
    "y_test_binary = np.where(y_test > 0, 1, 0)"
   ]
  },
  {
   "cell_type": "code",
   "execution_count": 175,
   "metadata": {},
   "outputs": [
    {
     "data": {
      "text/plain": [
       "array([1, 0, 1, ..., 1, 0, 0])"
      ]
     },
     "execution_count": 175,
     "metadata": {},
     "output_type": "execute_result"
    }
   ],
   "source": [
    "y_test_binary"
   ]
  },
  {
   "cell_type": "markdown",
   "metadata": {},
   "source": [
    "### D.17 Visualisasi Plot Kembali"
   ]
  },
  {
   "cell_type": "code",
   "execution_count": 177,
   "metadata": {},
   "outputs": [
    {
     "data": {
      "image/png": "[encoded data removed]",
      "text/plain": [
       "<Figure size 640x480 with 1 Axes>"
      ]
     },
     "metadata": {},
     "output_type": "display_data"
    }
   ],
   "source": [
    "plt.scatter(y_test_binary, y_pred_logika)\n",
    "plt.plot([y_test_binary.min(), y_test_binary.max()], [y_test_binary.min(), y_test_binary.max()], '--r')\n",
    "plt.title(\"Memprediksi pengguna windows\")\n",
    "plt.show()"
   ]
  },
  {
   "cell_type": "code",
   "execution_count": null,
   "metadata": {},
   "outputs": [],
   "source": []
  }
 ],
 "metadata": {
  "kernelspec": {
   "display_name": "Python 3",
   "language": "python",
   "name": "python3"
  },
  "language_info": {
   "codemirror_mode": {
    "name": "ipython",
    "version": 3
   },
   "file_extension": ".py",
   "mimetype": "text/x-python",
   "name": "python",
   "nbconvert_exporter": "python",
   "pygments_lexer": "ipython3",
   "version": "3.12.3"
  }
 },
 "nbformat": 4,
 "nbformat_minor": 2
}
